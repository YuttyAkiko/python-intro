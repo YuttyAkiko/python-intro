{
 "cells": [
  {
   "cell_type": "markdown",
   "metadata": {},
   "source": [
    "# Exercícios\n",
    "\n",
    "## 1. Input até o usuário parar\n",
    "\n",
    "Vamos criar um sistema de vendas. Nosso programa deve registrar os produtos e as quantidades (2 inputs) e adicionar em uma lista.\n",
    "\n",
    "O programa deve continuar rodando até o input ser vazio, ou seja, o usuário apertar enter sem digitar nenhum produto ou quantidade.\n",
    "\n",
    "Ao final do programa, ele deve printar todos os produtos e quantidades vendidas.\n",
    "\n",
    "Obs: Caso queira, para o print ficar mais visual, pode usar o join para cada item ser printado em uma linha.\n",
    "Sugestão para sua lista de produtos vendidos:"
   ]
  },
  {
   "cell_type": "raw",
   "metadata": {},
   "source": [
    "vendas = [\n",
    "    ['maçã', 5],\n",
    "    ['banana', 15],\n",
    "    ['azeite', 1],\n",
    "    ['vinho', 3],\n",
    "]"
   ]
  },
  {
   "cell_type": "code",
   "execution_count": 19,
   "metadata": {},
   "outputs": [
    {
     "name": "stdout",
     "output_type": "stream",
     "text": [
      "Produto registrado com sucesso! \n",
      " Nome do produto: ['maça', 'banana', 'azeite', 'vinho', 'leite', ''] \n",
      " Quantidade: [5, 15, 1, 3, '4', '']\n"
     ]
    }
   ],
   "source": [
    "#seu código aqui\n",
    "\n",
    "\"\"\" produto = input('Digite o nome do produto')\n",
    "qnt = int(input('Digite a quantidade'))\n",
    "produtos = ['maça', 'banana', 'azeite', 'vinho']\n",
    "qnt_produtos = [5, 15, 1, 3]\n",
    "\n",
    "while produtos != '' or qnt != '':\n",
    "    produtos.append(produto)\n",
    "    print(produto, qnt) \"\"\"\n",
    "\n",
    "produto = input('Digite o nome do produto. Para cancelar aperte o botão Enter do teclado')\n",
    "produtos = ['maça', 'banana', 'azeite', 'vinho']\n",
    "qnt = input('Digite a quantidade')\n",
    "qnt_produto = [5, 15, 1, 3]\n",
    "\n",
    "i = 0\n",
    "while produto != '' or qnt != '':\n",
    "    produto = input('Digite o nome do produto. Para cancelar aperte o botão Enter do teclado')\n",
    "    produtos.append(produto)\n",
    "    qnt = input('Digite a quantidade')\n",
    "    qnt_produto.append(qnt)\n",
    "\n",
    "print('Produto registrado com sucesso! \\n Nome do produto: {} \\n Quantidade: {}' .format(produtos, qnt_produto))"
   ]
  },
  {
   "cell_type": "code",
   "execution_count": null,
   "metadata": {},
   "outputs": [],
   "source": [
    "vendas = [\n",
    "    ['maçã', 5],\n",
    "    ['banana', 15],\n",
    "    ['azeite', 1],\n",
    "    ['vinho', 3],\n",
    "]\n",
    "\n",
    "produtos = []\n",
    "\n",
    "i = 0\n",
    "while produto != '' :\n",
    "    produtos.append(produto)\n",
    "    print('Digite o nome')"
   ]
  },
  {
   "cell_type": "code",
   "execution_count": 26,
   "metadata": {},
   "outputs": [
    {
     "name": "stdout",
     "output_type": "stream",
     "text": [
      "Produto registrado com sucesso! \n",
      " Nome do produto: ['maça', 'banana', 'azeite', 'vinho', 'manteiga', ''] \n",
      " Quantidade: [5, 15, 1, 3, '1', '']\n"
     ]
    }
   ],
   "source": [
    "produto = input('Digite o nome do produto. Para cancelar aperte o botão Enter do teclado')\n",
    "produtos = ['maça', 'banana', 'azeite', 'vinho']\n",
    "qnt = input('Digite a quantidade')\n",
    "qnt_produto = [5, 15, 1, 3]\n",
    "\n",
    "i = 0\n",
    "while produto or qnt :\n",
    "    if produto != '' or qnt != '' :\n",
    "        produto = input('Digite o nome do produto. Para cancelar aperte o botão Enter do teclado')\n",
    "        produtos.append(produto)\n",
    "        qnt = input('Digite a quantidade')\n",
    "        qnt_produto.append(qnt)\n",
    "else :\n",
    "    print('Produto registrado com sucesso! \\n Nome do produto: {} \\n Quantidade: {}' .format(produtos, qnt_produto))"
   ]
  },
  {
   "cell_type": "markdown",
   "metadata": {},
   "source": [
    "### Obs: Podemos fazer o While de 2 maneiras:\n",
    "\n",
    "1. While com a condição que finalize o programa\n",
    "2. While rodando para sempre, mas com uma condição dentro do while que dê um break no código.\n",
    "\n",
    "Vamos mostrar as 2 opções"
   ]
  }
 ],
 "metadata": {
  "kernelspec": {
   "display_name": "Python 3",
   "language": "python",
   "name": "python3"
  },
  "language_info": {
   "codemirror_mode": {
    "name": "ipython",
    "version": 3
   },
   "file_extension": ".py",
   "mimetype": "text/x-python",
   "name": "python",
   "nbconvert_exporter": "python",
   "pygments_lexer": "ipython3",
   "version": "3.11.4"
  }
 },
 "nbformat": 4,
 "nbformat_minor": 4
}

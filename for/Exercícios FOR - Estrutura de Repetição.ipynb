{
 "cells": [
  {
   "cell_type": "markdown",
   "id": "9dd4c2d2",
   "metadata": {},
   "source": [
    "# Lista de Exercícios \n",
    "\n",
    "## Estrutura de Repetições \n",
    "\n",
    "\n",
    "# \n",
    "\n",
    "#\n"
   ]
  },
  {
   "cell_type": "markdown",
   "id": "a11e7125",
   "metadata": {},
   "source": [
    "# Exercício 1:\n",
    "## Situação Problema: Um professor deseja imprimir na tela os números pares de 0 a 10 para ensinar os alunos sobre os conceitos de números pares e o uso da estrutura de repetição for."
   ]
  },
  {
   "cell_type": "code",
   "execution_count": 3,
   "id": "70b32ec8",
   "metadata": {},
   "outputs": [
    {
     "name": "stdout",
     "output_type": "stream",
     "text": [
      "0\n",
      "2\n",
      "4\n",
      "6\n",
      "8\n",
      "10\n"
     ]
    }
   ],
   "source": [
    "numbers = [0, 1, 2, 3, 4, 5, 6, 7, 8, 9, 10]\n",
    "\n",
    "for i in numbers :\n",
    "    if i % 2 == 0 :\n",
    "        print(i)"
   ]
  },
  {
   "cell_type": "markdown",
   "id": "774c24f7",
   "metadata": {},
   "source": [
    "# Exercício 2:\n",
    "## Situação Problema: Um vendedor de frutas quer mostrar ao cliente as frutas disponíveis em sua banca. Ele possui uma lista de nomes de frutas e deseja imprimir cada nome em uma linha separada para facilitar a visualização."
   ]
  },
  {
   "cell_type": "code",
   "execution_count": 4,
   "id": "2355128b",
   "metadata": {},
   "outputs": [
    {
     "name": "stdout",
     "output_type": "stream",
     "text": [
      "banana\n",
      "kiwi\n",
      "pitaya\n",
      "morango\n",
      "abacaxi\n",
      "manga\n"
     ]
    }
   ],
   "source": [
    "fruits = ['banana', 'kiwi', 'pitaya', 'morango', 'abacaxi', 'manga']\n",
    "\n",
    "for fruit in fruits :\n",
    "    print(fruit)"
   ]
  },
  {
   "cell_type": "markdown",
   "id": "4a8789d6",
   "metadata": {},
   "source": [
    "# Exercício 3:\n",
    "## Situação Problema: Uma criança está aprendendo a tabuada e precisa praticar a tabuada de um número específico. O programa pede à criança para digitar um número e, em seguida, imprime a tabuada desse número de 1 a 10 para ajudá-la a praticar."
   ]
  },
  {
   "cell_type": "code",
   "execution_count": 5,
   "id": "4fe9fcc5",
   "metadata": {},
   "outputs": [
    {
     "name": "stdout",
     "output_type": "stream",
     "text": [
      "2 x 1 = 2\n",
      "2 x 2 = 4\n",
      "2 x 3 = 6\n",
      "2 x 4 = 8\n",
      "2 x 5 = 10\n",
      "2 x 6 = 12\n",
      "2 x 7 = 14\n",
      "2 x 8 = 16\n",
      "2 x 9 = 18\n",
      "2 x 10 = 20\n"
     ]
    }
   ],
   "source": [
    "multiplication_table = [1, 2, 3, 4, 5, 6, 7, 8, 9, 10]\n",
    "\n",
    "n = int(input('Digite um número'))\n",
    "\n",
    "for i in range(10) :\n",
    "    result = n * multiplication_table[i]\n",
    "    print('{} x {} = {}' .format(n, multiplication_table[i], result))"
   ]
  },
  {
   "cell_type": "markdown",
   "id": "73292b54",
   "metadata": {},
   "source": [
    "# Exercício 4:\n",
    "## Situação Problema: Um cientista está analisando dados experimentais e deseja saber o valor e a posição de cada leitura registrada. O programa recebe uma lista de números, e o cientista precisa imprimir cada valor junto com sua respectiva posição na lista."
   ]
  },
  {
   "cell_type": "code",
   "execution_count": 4,
   "id": "efd1518c",
   "metadata": {},
   "outputs": [
    {
     "name": "stdout",
     "output_type": "stream",
     "text": [
      "Experimento: rato, número de registro: 1234 \n",
      "Experimento: coelho, número de registro: 4567 \n",
      "Experimento: aranha, número de registro: 7894 \n",
      "Experimento: macaco, número de registro: 4561 \n",
      "Experimento: fernando, número de registro: 9871 \n"
     ]
    }
   ],
   "source": [
    "experiments = ['rato', 'coelho', 'aranha', 'macaco', 'fernando']\n",
    "numbers = [1234, 4567, 7894, 4561, 9871]\n",
    "\n",
    "n = len(experiments)\n",
    "\n",
    "for i in range(n) :\n",
    "    print('Experimento: {}, número de registro: {} ' .format(experiments[i], numbers[i]))"
   ]
  },
  {
   "cell_type": "markdown",
   "id": "dfa079f6",
   "metadata": {},
   "source": [
    "# Exercício 5:\n",
    "## Situação Problema: Um caixa de supermercado precisa calcular o total de uma compra. Ele registra o preço de cada produto em uma lista e, em seguida, usa um loop for para somar todos os preços e obter o valor total da compra."
   ]
  },
  {
   "cell_type": "code",
   "execution_count": 17,
   "id": "4022ade0",
   "metadata": {},
   "outputs": [
    {
     "name": "stdout",
     "output_type": "stream",
     "text": [
      "Produto: suco ---------- Preço: R$8\n",
      "Produto: pão ---------- Preço: R$15\n",
      "Produto: café ---------- Preço: R$25\n",
      "Produto: sabonete ---------- Preço: R$6\n",
      "\n",
      " Total: R$54\n"
     ]
    }
   ],
   "source": [
    "products = ['suco', 'pão', 'café', 'sabonete']\n",
    "prices = [8, 15, 25, 6]\n",
    "\n",
    "lista = len(products)\n",
    "\n",
    "total = sum(prices)\n",
    "\n",
    "for i in range(lista) :\n",
    "    print(\"Produto: {} ---------- Preço: R${}\" .format(products[i], prices[i]))\n",
    "\n",
    "print('\\n Total: R${}' .format(total))\n",
    "    "
   ]
  },
  {
   "cell_type": "markdown",
   "id": "e133fb36",
   "metadata": {},
   "source": [
    "# Exercício 6:\n",
    "## Situação Problema: Um professor quer ensinar aos alunos como contar as vogais em uma frase. O programa pede ao aluno para digitar uma frase e, em seguida, conta quantas vogais existem nessa frase, mostrando o resultado na tela."
   ]
  },
  {
   "cell_type": "code",
   "execution_count": 2,
   "id": "e76888d1",
   "metadata": {},
   "outputs": [
    {
     "name": "stdout",
     "output_type": "stream",
     "text": [
      "Quantidade de vogais presente na frase: 0\n",
      "Quantidade de vogais presente na frase: 0\n",
      "Quantidade de vogais presente na frase: 0\n",
      "Quantidade de vogais presente na frase: 0\n",
      "Quantidade de vogais presente na frase: 0\n",
      "Quantidade de vogais presente na frase: 0\n",
      "Quantidade de vogais presente na frase: 0\n"
     ]
    }
   ],
   "source": [
    "\n",
    "frase = input('Digite uma frase: ')\n",
    "\n",
    "vogais = ['a', 'e', 'i', 'o', 'u']\n",
    "\n",
    "for vogais in frase :\n",
    "    qnt = vogais.count(frase)\n",
    "    print('Quantidade de vogais presente na frase: {}' .format(qnt))"
   ]
  },
  {
   "cell_type": "markdown",
   "id": "9f19b6dc",
   "metadata": {},
   "source": [
    "# Exercício 7:\n",
    "## Situação Problema: Um jogador está jogando um jogo de adivinhação e precisa descobrir o número mais alto dentre várias tentativas. O programa recebe uma lista de números inseridos pelo jogador e exibe o maior número após todas as tentativas."
   ]
  },
  {
   "cell_type": "code",
   "execution_count": null,
   "id": "c325a255",
   "metadata": {},
   "outputs": [],
   "source": []
  },
  {
   "cell_type": "markdown",
   "id": "d8bdadbe",
   "metadata": {},
   "source": [
    "# Exercício 9:\n",
    "## Situação Problema: Um professor deseja ensinar o alfabeto para seus alunos. O programa pede ao aluno para digitar uma palavra e, em seguida, exibe cada letra da palavra em uma linha separada para ajudar os alunos a praticarem o reconhecimento das letras."
   ]
  },
  {
   "cell_type": "code",
   "execution_count": null,
   "id": "19e9a80c",
   "metadata": {},
   "outputs": [],
   "source": []
  }
 ],
 "metadata": {
  "kernelspec": {
   "display_name": "Python 3 (ipykernel)",
   "language": "python",
   "name": "python3"
  },
  "language_info": {
   "codemirror_mode": {
    "name": "ipython",
    "version": 3
   },
   "file_extension": ".py",
   "mimetype": "text/x-python",
   "name": "python",
   "nbconvert_exporter": "python",
   "pygments_lexer": "ipython3",
   "version": "3.11.4"
  }
 },
 "nbformat": 4,
 "nbformat_minor": 5
}

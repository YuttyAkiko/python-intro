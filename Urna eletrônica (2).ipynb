{
 "cells": [
  {
   "cell_type": "markdown",
   "id": "28159d01",
   "metadata": {},
   "source": [
    "# Atividade Urna de Votação"
   ]
  },
  {
   "cell_type": "code",
   "execution_count": null,
   "id": "02d3d16d",
   "metadata": {},
   "outputs": [],
   "source": [
    "from IPython.display import Image, display\n",
    "display(Image(filename='urnas.jpeg', width=400, height=300))  # Substitua 300 e 200 pelos valores desejados\n",
    "# Colocar uma imagem do arquivo local"
   ]
  },
  {
   "cell_type": "markdown",
   "id": "0a1f8c64",
   "metadata": {},
   "source": [
    "### Chegou o momento de concluirmos nosso ciclo de aprendizado em backend com Python! Desde as primeiras linhas de código até as estruturas condicionais e comparadores, exploramos um mundo de possibilidades. Agora, vamos aplicar nosso conhecimento em um projeto empolgante: a criação de uma \"Urna Eletrônica\" para as futuras votações na Escola SENAI Morvan Figueiredo."
   ]
  },
  {
   "cell_type": "markdown",
   "id": "77753307",
   "metadata": {},
   "source": [
    "### Objetivo: \n",
    "####   Criar uma urna eletrônica em Python para realizar uma simulação de votação entre candidatos fictícios na escola SENAI Morvan Figueiredo."
   ]
  },
  {
   "cell_type": "markdown",
   "id": "ca4c538c",
   "metadata": {},
   "source": [
    "### Descrição:\n",
    "\n",
    "#### Na \"Urna Eletrônica\" que vamos desenvolver, cada grupo de alunos será responsável por construir um sistema simulado de votação. Os candidatos imaginários, e todos terão a oportunidade de exercer seu direito de voto em um ambiente virtual.\n",
    "\n",
    "### Passos da Atividade:\n",
    "\n",
    "#### Passo 1: Forme equipes no máximo 3 alunos.\n",
    "\n",
    "\n",
    "\n",
    "#### Passo 2: Criando os Candidatos e Partidos\n",
    "\n",
    "#### Criar uma lista de candidatos fictícios, atribuindo a cada um um nome, número e partido imaginário.\n",
    "\n",
    "#### Passo 3: Simulando a Votação\n",
    "\n",
    "#### Implemente um loop de votação que permita que os alunos escolham um candidato apenas pelo número.\n",
    "#### Use um dicionário para registrar a quantidade de votos que cada candidato recebeu.\n",
    "\n",
    "#### Passo 4: Contagem e Anúncio dos Resultados\n",
    "\n",
    "#### Ao encerrar a votação, exiba um relatório com os resultados da votação.\n",
    "#### Mostre os candidatos, seus números, partidos e a quantidade de votos recebidos por cada um.\n",
    "#### Anuncie o candidato vencedor, aquele que recebeu mais votos."
   ]
  },
  {
   "cell_type": "markdown",
   "id": "35ef61ec",
   "metadata": {},
   "source": [
    "### Lembrete: \n",
    "#### Esta atividade não é apenas sobre programar, mas também sobre compreender a importância das eleições, trabalhar em equipe e aplicar conceitos de programação em cenários do mundo real. "
   ]
  },
  {
   "cell_type": "code",
   "execution_count": 16,
   "id": "92bb3c4c",
   "metadata": {},
   "outputs": [
    {
     "name": "stdout",
     "output_type": "stream",
     "text": [
      "{'123,': {'nome': 'yutty', 'partido': 'senai'}}\n",
      "{'123,': {'nome': 'yutty', 'partido': 'senai'}, '456': {'nome': 'gabriel', 'partido': 'pomba'}}\n"
     ]
    },
    {
     "ename": "TypeError",
     "evalue": "'<' not supported between instances of 'dict' and 'int'",
     "output_type": "error",
     "traceback": [
      "\u001b[1;31m---------------------------------------------------------------------------\u001b[0m",
      "\u001b[1;31mTypeError\u001b[0m                                 Traceback (most recent call last)",
      "Cell \u001b[1;32mIn[16], line 35\u001b[0m\n\u001b[0;32m     28\u001b[0m \u001b[39m\"\"\" def registrarVotos():\u001b[39;00m\n\u001b[0;32m     29\u001b[0m \u001b[39m    voto = int(input('Digite o número do candidato')) \u001b[39;00m\n\u001b[0;32m     30\u001b[0m \u001b[39m    votos.append(voto) \"\"\"\u001b[39;00m\n\u001b[0;32m     32\u001b[0m \u001b[39m\"\"\" def contarVotos(lista):\u001b[39;00m\n\u001b[0;32m     33\u001b[0m \u001b[39m    print('x') \"\"\"\u001b[39;00m\n\u001b[1;32m---> 35\u001b[0m cadastrarCandidatos()\n\u001b[0;32m     36\u001b[0m \u001b[39m#registrarVotos()\u001b[39;00m\n\u001b[0;32m     37\u001b[0m \u001b[39m#contarVotos(votos)\u001b[39;00m\n",
      "Cell \u001b[1;32mIn[16], line 26\u001b[0m, in \u001b[0;36mcadastrarCandidatos\u001b[1;34m()\u001b[0m\n\u001b[0;32m     24\u001b[0m         \u001b[39mprint\u001b[39m(candidatos)\n\u001b[0;32m     25\u001b[0m         \u001b[39mcontinue\u001b[39;00m\n\u001b[1;32m---> 26\u001b[0m eleicao()\n",
      "Cell \u001b[1;32mIn[16], line 8\u001b[0m, in \u001b[0;36meleicao\u001b[1;34m()\u001b[0m\n\u001b[0;32m      6\u001b[0m \u001b[39mdef\u001b[39;00m \u001b[39meleicao\u001b[39m():\n\u001b[0;32m      7\u001b[0m     \u001b[39mfor\u001b[39;00m i \u001b[39min\u001b[39;00m candidatos:\n\u001b[1;32m----> 8\u001b[0m         \u001b[39mif\u001b[39;00m candidatos[i] \u001b[39m<\u001b[39;49m \u001b[39m2\u001b[39;49m:\n\u001b[0;32m      9\u001b[0m             \u001b[39mprint\u001b[39m(\u001b[39m'\u001b[39m\u001b[39mPara a efetuar a eleição é necessário ter no mínimo dois candidatos.\u001b[39m\u001b[39m'\u001b[39m)\n\u001b[0;32m     10\u001b[0m             \u001b[39mbreak\u001b[39;00m\n",
      "\u001b[1;31mTypeError\u001b[0m: '<' not supported between instances of 'dict' and 'int'"
     ]
    }
   ],
   "source": [
    "# Desenvolva seu código aqui!\n",
    "\n",
    "candidatos = {}\n",
    "votos = []\n",
    "\n",
    "def eleicao():\n",
    "    for i in candidatos:\n",
    "        if candidatos[i] < 2:\n",
    "            print('Para a efetuar a eleição é necessário ter no mínimo dois candidatos.')\n",
    "            break\n",
    "        else:\n",
    "            print('x')\n",
    "\n",
    "def cadastrarCandidatos():\n",
    "    while True:\n",
    "        nome = input('Digite o nome do candidato. Para iniciar a eleição digite votar.')\n",
    "        if nome == '':\n",
    "            break\n",
    "        else:\n",
    "            numero = input('Digite o número do candidato')\n",
    "            partido = input('Digite o partido do candidato')\n",
    "            candidato = {numero : {'nome' : nome, 'partido' : partido}}\n",
    "            candidatos.update(candidato)\n",
    "            print(candidatos)\n",
    "            continue\n",
    "    eleicao()\n",
    "\n",
    "\"\"\" def registrarVotos():\n",
    "    voto = int(input('Digite o número do candidato')) \n",
    "    votos.append(voto) \"\"\"\n",
    "\n",
    "\"\"\" def contarVotos(lista):\n",
    "    print('x') \"\"\"\n",
    "\n",
    "cadastrarCandidatos()\n",
    "#registrarVotos()\n",
    "#contarVotos(votos)\n",
    "\n"
   ]
  },
  {
   "cell_type": "code",
   "execution_count": null,
   "id": "c90eb2df",
   "metadata": {},
   "outputs": [],
   "source": []
  }
 ],
 "metadata": {
  "kernelspec": {
   "display_name": "Python 3 (ipykernel)",
   "language": "python",
   "name": "python3"
  },
  "language_info": {
   "codemirror_mode": {
    "name": "ipython",
    "version": 3
   },
   "file_extension": ".py",
   "mimetype": "text/x-python",
   "name": "python",
   "nbconvert_exporter": "python",
   "pygments_lexer": "ipython3",
   "version": "3.11.4"
  }
 },
 "nbformat": 4,
 "nbformat_minor": 5
}

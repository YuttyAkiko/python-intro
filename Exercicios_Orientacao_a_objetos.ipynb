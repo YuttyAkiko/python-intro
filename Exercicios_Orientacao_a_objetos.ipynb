{
  "cells": [
    {
      "cell_type": "markdown",
      "metadata": {
        "id": "CXof86h3x2Gx"
      },
      "source": [
        "# Exercícios : Orientação a Objetos no Python"
      ]
    },
    {
      "cell_type": "markdown",
      "metadata": {
        "id": "s4mG0KoFx2G1"
      },
      "source": [
        "### Exercício 1: Registro de Pacientes\n",
        "\n",
        "Crie uma classe chamada Paciente que represente os pacientes de uma clínica de saúde. A classe deve ter as seguintes propriedades:\n",
        "\n",
        "nome: Nome do paciente\n",
        "idade: Idade do paciente\n",
        "sexo: Sexo do paciente (masculino/feminino)\n",
        "historico_medico: Lista que armazena o histórico médico do paciente\n",
        "\n",
        "Além disso, a classe deve ter os seguintes métodos:\n",
        "\n",
        "adicionar_historico(medico, diagnostico): Método que adiciona uma entrada ao histórico médico do paciente, contendo o nome do médico e o diagnóstico fornecido.\n",
        "imprimir_historico(): Método que imprime o histórico médico do paciente."
      ]
    },
    {
      "cell_type": "code",
      "execution_count": 2,
      "metadata": {
        "id": "Pk1_MuKIx2G2"
      },
      "outputs": [
        {
          "name": "stdout",
          "output_type": "stream",
          "text": [
            "Médico: paulo, Diagnóstico: resfriado\n"
          ]
        }
      ],
      "source": [
        "class Paciente:\n",
        "    def __init__(self, name, age, gender_validation):\n",
        "        self.name = name\n",
        "        self.age = age\n",
        "        self.gender = gender_validation\n",
        "        self.doctor_historic = []\n",
        "\n",
        "    def gender_validation(self, gender):\n",
        "        # Validando o gênero do paciente\n",
        "        gender = gender.capitalize()\n",
        "        if gender is not ['Masculino', 'Feminino']:\n",
        "            raise ValueError('Sexo inválido! Digite \"Masculino\" ou \"Feminino\"')\n",
        "        return gender\n",
        "    \n",
        "def add_historic(self, doctor, diagnostic):\n",
        "        # Função que adiciona o histórico médico do paciente\n",
        "        entry_historic = f'Médico: {doctor}, Diagnóstico: {diagnostic}'\n",
        "        self.doctor_historic.append(entry_historic)\n",
        "\n",
        "def print__historic(self):\n",
        "    # Função que imprime o histórico médico\n",
        "    if not self.doctor_historic:\n",
        "        print('Não há registros')\n",
        "    else:\n",
        "        for entry in self.doctor_historic:\n",
        "            print(entry)\n",
        "\n",
        "# Entrada de valores pelo usuário através do input\n",
        "name = input('Digite o nome do paciente: ')\n",
        "age = input('Digite a idade do paciente: ')\n",
        "gender = input('Digite o gênero do paciente \"Masculino\" ou \"Feminino\": ')\n",
        "\n",
        "# Criando uma instância do paciente\n",
        "paciente1 = Paciente(name, age, gender)\n",
        "\n",
        "# Entrada de valores para adicionar no histórico médico\n",
        "doctor = input('Médico: ')\n",
        "diagnostic = input('Diagnóstico: ')\n",
        "\n",
        "# Criando uma instância para o histórico médico\n",
        "paciente1.add_historic(doctor, diagnostic)\n",
        "\n",
        "paciente1.print__historic()\n",
        "\n"
      ]
    },
    {
      "cell_type": "markdown",
      "metadata": {
        "id": "nmGNe_FHx2G2"
      },
      "source": [
        "### Exercício 2: Controle de Equipamentos Médicos\n",
        "\n",
        "Crie uma classe chamada EquipamentoMedico que representa os equipamentos médicos de uma clínica. A classe deve ter as seguintes propriedades:\n",
        "\n",
        "nome: Nome do equipamento\n",
        "tipo: Tipo de equipamento (ex: \"Raio-X\", \"Tomógrafo\", etc.)\n",
        "status: Status do equipamento (disponível/manutenção/fora de serviço)\n",
        "Além disso, a classe deve ter os seguintes métodos:\n",
        "\n",
        "alterar_status(novo_status): Método que altera o status do equipamento.\n",
        "verificar_status(): Método que retorna o status atual do equipamento."
      ]
    },
    {
      "cell_type": "code",
      "execution_count": null,
      "metadata": {
        "id": "v4magUQOx2G2"
      },
      "outputs": [],
      "source": []
    },
    {
      "cell_type": "markdown",
      "metadata": {
        "id": "mORBC6R9x2G2"
      },
      "source": [
        "### Exercício 3: Registro de Consultas Médicas\n",
        "Crie uma classe chamada ConsultaMedica que represente as consultas médicas realizadas em uma clínica. A classe deve ter as seguintes propriedades:\n",
        "\n",
        "data: Data da consulta\n",
        "paciente: Objeto da classe Paciente representando o paciente da consulta\n",
        "medico: Nome do médico responsável pela consulta\n",
        "diagnostico: Diagnóstico fornecido durante a consulta\n",
        "Além disso, a classe deve ter um método:\n",
        "\n",
        "imprimir_informacoes(): Método que imprime as informações da consulta."
      ]
    },
    {
      "cell_type": "code",
      "execution_count": null,
      "metadata": {
        "id": "9Cx153rLx2G3"
      },
      "outputs": [],
      "source": [
        "\n"
      ]
    }
  ],
  "metadata": {
    "colab": {
      "provenance": []
    },
    "kernelspec": {
      "display_name": "Python 3",
      "language": "python",
      "name": "python3"
    },
    "language_info": {
      "codemirror_mode": {
        "name": "ipython",
        "version": 3
      },
      "file_extension": ".py",
      "mimetype": "text/x-python",
      "name": "python",
      "nbconvert_exporter": "python",
      "pygments_lexer": "ipython3",
      "version": "3.12.2"
    }
  },
  "nbformat": 4,
  "nbformat_minor": 0
}

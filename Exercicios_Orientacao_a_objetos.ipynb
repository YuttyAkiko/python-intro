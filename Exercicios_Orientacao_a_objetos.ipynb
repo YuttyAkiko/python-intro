{
  "cells": [
    {
      "cell_type": "markdown",
      "metadata": {
        "id": "CXof86h3x2Gx"
      },
      "source": [
        "# Exercícios : Orientação a Objetos no Python"
      ]
    },
    {
      "cell_type": "markdown",
      "metadata": {
        "id": "s4mG0KoFx2G1"
      },
      "source": [
        "### Exercício 1: Registro de Pacientes\n",
        "\n",
        "Crie uma classe chamada Paciente que represente os pacientes de uma clínica de saúde. A classe deve ter as seguintes propriedades:\n",
        "\n",
        "nome: Nome do paciente\n",
        "idade: Idade do paciente\n",
        "sexo: Sexo do paciente (masculino/feminino)\n",
        "historico_medico: Lista que armazena o histórico médico do paciente\n",
        "\n",
        "Além disso, a classe deve ter os seguintes métodos:\n",
        "\n",
        "adicionar_historico(medico, diagnostico): Método que adiciona uma entrada ao histórico médico do paciente, contendo o nome do médico e o diagnóstico fornecido.\n",
        "imprimir_historico(): Método que imprime o histórico médico do paciente."
      ]
    },
    {
      "cell_type": "code",
      "execution_count": 29,
      "metadata": {
        "id": "Pk1_MuKIx2G2"
      },
      "outputs": [],
      "source": [
        "from tkinter import *\n",
        "from tkinter import messagebox\n",
        "from tkinter import ttk\n",
        "import tkinter as tk\n",
        "\n",
        "class Paciente:\n",
        "    def __init__(self, name, age, gender, historic):\n",
        "        self.name = name\n",
        "        self.age = age\n",
        "        self.gender = gender\n",
        "        self.historic - historic\n",
        "    \n",
        "    def add_historic(self):\n",
        "        # Função que adiciona o histórico médico do paciente\n",
        "        pass\n",
        "\n",
        "    def print__historic(self):\n",
        "        # Função que imprime o histórico médico\n",
        "        pass\n",
        "\n",
        "class App() :\n",
        "    def __init__(self, window) :\n",
        "        window.title('Registro de Pacientes')\n",
        "        window.geometry('500x600')\n",
        "\n",
        "        self.frame1 = tk.Frame(window)\n",
        "        self.frame1.pack(fill='both', padx=20, pady=20)\n",
        "        self.frame2 = tk.Frame(window)\n",
        "        self.frame2.pack(padx=100)\n",
        "\n",
        "        self.label = tk.Label(self.frame1, text='Digite o nome do paciente:')\n",
        "        self.label.pack(side='left')\n",
        "        self.user = tk.Entry(self.frame1, width=50)\n",
        "        self.user.pack(side='left')\n",
        "\n",
        "        def msg() :\n",
        "            option = combo.get()\n",
        "            messagebox.showinfo('Informação', 'O gênero escolhido foi: ' + option)\n",
        "            user = self.user.get()\n",
        "            messagebox.showinfo('Informações', 'Nome do paciente: ' + user)\n",
        "\n",
        "        list = ['Masculino', 'Feminino']\n",
        "\n",
        "        Label(root, text='Selecione o gênero do paciente').pack()\n",
        "\n",
        "        combo = ttk.Combobox(root, values=list)\n",
        "        combo.set('Selecione uma opção')\n",
        "        combo.pack()\n",
        "\n",
        "        Button(root, text='Enviar', command=msg).pack(pady=30)\n",
        "\n",
        "root = tk.Tk()\n",
        "app = App(root)\n",
        "root.mainloop()\n"
      ]
    },
    {
      "cell_type": "markdown",
      "metadata": {
        "id": "nmGNe_FHx2G2"
      },
      "source": [
        "### Exercício 2: Controle de Equipamentos Médicos\n",
        "\n",
        "Crie uma classe chamada EquipamentoMedico que representa os equipamentos médicos de uma clínica. A classe deve ter as seguintes propriedades:\n",
        "\n",
        "nome: Nome do equipamento\n",
        "tipo: Tipo de equipamento (ex: \"Raio-X\", \"Tomógrafo\", etc.)\n",
        "status: Status do equipamento (disponível/manutenção/fora de serviço)\n",
        "Além disso, a classe deve ter os seguintes métodos:\n",
        "\n",
        "alterar_status(novo_status): Método que altera o status do equipamento.\n",
        "verificar_status(): Método que retorna o status atual do equipamento."
      ]
    },
    {
      "cell_type": "code",
      "execution_count": null,
      "metadata": {
        "id": "v4magUQOx2G2"
      },
      "outputs": [],
      "source": []
    },
    {
      "cell_type": "markdown",
      "metadata": {
        "id": "mORBC6R9x2G2"
      },
      "source": [
        "### Exercício 3: Registro de Consultas Médicas\n",
        "Crie uma classe chamada ConsultaMedica que represente as consultas médicas realizadas em uma clínica. A classe deve ter as seguintes propriedades:\n",
        "\n",
        "data: Data da consulta\n",
        "paciente: Objeto da classe Paciente representando o paciente da consulta\n",
        "medico: Nome do médico responsável pela consulta\n",
        "diagnostico: Diagnóstico fornecido durante a consulta\n",
        "Além disso, a classe deve ter um método:\n",
        "\n",
        "imprimir_informacoes(): Método que imprime as informações da consulta."
      ]
    },
    {
      "cell_type": "code",
      "execution_count": null,
      "metadata": {
        "id": "9Cx153rLx2G3"
      },
      "outputs": [],
      "source": [
        "\n"
      ]
    }
  ],
  "metadata": {
    "colab": {
      "provenance": []
    },
    "kernelspec": {
      "display_name": "Python 3",
      "language": "python",
      "name": "python3"
    },
    "language_info": {
      "codemirror_mode": {
        "name": "ipython",
        "version": 3
      },
      "file_extension": ".py",
      "mimetype": "text/x-python",
      "name": "python",
      "nbconvert_exporter": "python",
      "pygments_lexer": "ipython3",
      "version": "3.8.3"
    }
  },
  "nbformat": 4,
  "nbformat_minor": 0
}

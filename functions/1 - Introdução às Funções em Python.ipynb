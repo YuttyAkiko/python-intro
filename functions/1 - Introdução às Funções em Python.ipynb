{
 "cells": [
  {
   "cell_type": "markdown",
   "id": "d6fa79c4",
   "metadata": {},
   "source": [
    "# Exercícios de Introdução às Funções em Python"
   ]
  },
  {
   "cell_type": "markdown",
   "id": "6ea92414",
   "metadata": {},
   "source": [
    "######  . . . . .  . . . . . . . . . . . . . . . . . . . . . ..  . . . ..  .. .  ..  . . . . ..  . . . . . .. .  . . . . . . . . . ..  . .. .  . . .. . ..  .. .  . . . . . . . . .. . .  .. . . . . . .. . . . . . . . . . . . . . . . .. . . . . . .. \n",
    ".\n",
    "..\n",
    ".\n",
    "..\n",
    ".\n",
    "..\n",
    ".\n",
    "..\n"
   ]
  },
  {
   "cell_type": "markdown",
   "id": "66043de7",
   "metadata": {},
   "source": [
    "## Introdução ao uso de funções em Python. Funções são blocos de código que nos permitem organizar e reutilizar tarefas em nossos programas. Elas são uma parte fundamental da programação e nos ajudam a escrever código mais limpo, eficiente e modular.\n",
    "\n",
    "## Para praticar o que aprendemos, temos uma série de exercícios que envolvem o uso de funções básicas para realizar cálculos simples. Vocês deverão criar funções que resolvam os problemas propostos. Lembre-se de usar nomes significativos para suas funções e variáveis, para que o código seja claro e compreensível."
   ]
  },
  {
   "cell_type": "markdown",
   "id": "a7f6647f",
   "metadata": {},
   "source": [
    "## Exercício 1: Calcular a área de um retângulo\n",
    "### Situação Problema: Você está construindo um jardim retangular em sua casa. A largura do jardim é 5 metros e o comprimento é 8 metros. Qual é a área total do jardim?"
   ]
  },
  {
   "cell_type": "code",
   "execution_count": 36,
   "id": "931944a6",
   "metadata": {},
   "outputs": [
    {
     "name": "stdout",
     "output_type": "stream",
     "text": [
      "Altura: 5 metros \n",
      "Comprimento: 8 metros \n",
      "A área do retângulo é de: 40 metros\n"
     ]
    }
   ],
   "source": [
    "#seu codigo aqui!\n",
    "def area():\n",
    "    width = 5\n",
    "    height = 8\n",
    "    a = width * height\n",
    "    return print('Altura: {} metros \\nComprimento: {} metros \\nA área do retângulo é de: {} metros' .format(width, height, a))\n",
    "\n",
    "area()"
   ]
  },
  {
   "cell_type": "markdown",
   "id": "f9684318",
   "metadata": {},
   "source": [
    "## Exercício 2: Calcular o quadrado de um número\n",
    "### Situação Problema: Você está medindo o lado de um quadrado. O lado mede 6 metros. Qual é a área desse quadrado?"
   ]
  },
  {
   "cell_type": "code",
   "execution_count": 8,
   "id": "12546b18",
   "metadata": {},
   "outputs": [
    {
     "name": "stdout",
     "output_type": "stream",
     "text": [
      "O cateto do quadrado mede: 6 metros \n",
      "A área total é de 36 metros\n"
     ]
    }
   ],
   "source": [
    "#seu codigo aqui!\n",
    "def area():\n",
    "    cateto = 6\n",
    "    a = 6**2\n",
    "    return print('O cateto do quadrado mede: {} metros \\nA área total é de {} metros' .format(cateto, a))\n",
    "\n",
    "area()"
   ]
  },
  {
   "cell_type": "markdown",
   "id": "3f96f770",
   "metadata": {},
   "source": [
    "## Exercício 3: Converter Celsius para Fahrenheit\n",
    "### Situação Problema: Você está em um país onde a temperatura é medida em Fahrenheit. A temperatura atual é 25 graus Celsius. Qual é a temperatura equivalente em Fahrenheit?"
   ]
  },
  {
   "cell_type": "code",
   "execution_count": 20,
   "id": "c1923918",
   "metadata": {},
   "outputs": [
    {
     "name": "stdout",
     "output_type": "stream",
     "text": [
      "A temperatura atual é 25°C ou 77.0°F\n"
     ]
    }
   ],
   "source": [
    "#seu codigo aqui!\n",
    "\n",
    "def converter():\n",
    "    current_temperature_c = 25\n",
    "    temperature_f = current_temperature_c * 1.8 + 32\n",
    "    print('A temperatura atual é {}°C ou {}°F' .format(current_temperature_c, temperature_f))\n",
    "    return\n",
    "\n",
    "converter()"
   ]
  },
  {
   "cell_type": "markdown",
   "id": "535c92f1",
   "metadata": {},
   "source": [
    "## Exercício 4: Calcular a média de três números\n",
    "### Situação Problema: Você fez três exames e obteve as seguintes notas: 7.5, 8.0 e 6.5. Qual é a sua média nessas três provas?"
   ]
  },
  {
   "cell_type": "code",
   "execution_count": 43,
   "id": "c2c4fae5",
   "metadata": {},
   "outputs": [
    {
     "name": "stdout",
     "output_type": "stream",
     "text": [
      "Primeira nota: 7.5 \n",
      "Segunda nota: 8 \n",
      "Terceira nota: 6.5 \n",
      "A média das notas é 17.67\n"
     ]
    }
   ],
   "source": [
    "#seu codigo aqui!\n",
    "\n",
    "def media():\n",
    "    n1 = 7.5\n",
    "    n2 = 8\n",
    "    n3 = 6.5\n",
    "    m = n1 + n2 + n3 / 3\n",
    "    print('Primeira nota: {} \\nSegunda nota: {} \\nTerceira nota: {} \\nA média das notas é {:.2f}' .format(n1, n2, n3, m))\n",
    "    return\n",
    "\n",
    "media()"
   ]
  },
  {
   "cell_type": "markdown",
   "id": "dc19120f",
   "metadata": {},
   "source": [
    "## Exercício 5: Calcular a hipotenusa de um triângulo retângulo\n",
    "### Situação Problema: Você está construindo uma rampa para um skatepark. As duas partes da rampa formam um ângulo reto, e as medidas dos catetos são 4 metros e 5 metros. Qual é o comprimento da rampa (hipotenusa)?"
   ]
  },
  {
   "cell_type": "code",
   "execution_count": 53,
   "id": "e634d60c",
   "metadata": {},
   "outputs": [
    {
     "name": "stdout",
     "output_type": "stream",
     "text": [
      "O tamanho dos catetos são de 4 metros e 5 metros. Sendo assim, a hipotenusa tem 6.40 metros.\n"
     ]
    }
   ],
   "source": [
    "#seu codigo aqui!\n",
    "def calc():\n",
    "    c1 = 4\n",
    "    c2 = 5\n",
    "    h = (c1**2 + c2**2)**0.5\n",
    "    print('O tamanho dos catetos são de {} metros e {} metros. Sendo assim, a hipotenusa tem {:.2f} metros.' .format(c1, c2, h))\n",
    "    return\n",
    "    \n",
    "calc()"
   ]
  },
  {
   "cell_type": "markdown",
   "id": "63fa58f9",
   "metadata": {},
   "source": [
    "## Exercício 6: Calcular o perímetro de um quadrado\n",
    "### Situação Problema: Você está construindo um tapete quadrado para a sala de estar. Cada lado do tapete mede 3 metros. Qual é o perímetro total do tapete?"
   ]
  },
  {
   "cell_type": "code",
   "execution_count": 54,
   "id": "a2cc0651",
   "metadata": {},
   "outputs": [
    {
     "name": "stdout",
     "output_type": "stream",
     "text": [
      "Se cada lado do tapete mede 3 metros. O perímetro mede 12 metros\n"
     ]
    }
   ],
   "source": [
    "#seu codigo aqui!\n",
    "\n",
    "def calc():\n",
    "    a = 3\n",
    "    p = a * 4\n",
    "    print('Se cada lado do tapete mede {} metros. O perímetro mede {} metros' .format(a, p))\n",
    "    return\n",
    "\n",
    "calc()"
   ]
  },
  {
   "cell_type": "markdown",
   "id": "0bc6d476",
   "metadata": {},
   "source": [
    "## Exercício 7: Calcular a média ponderada de três notas\n",
    "### Situação Problema: Você está estudando para três disciplinas diferentes. Suas notas são: 7.0 em Matemática, 8.5 em Ciências e 9.5 em História. Se a Matemática tem peso 2, Ciências tem peso 3 e História tem peso 5, qual é a sua média ponderada?\n",
    "\n"
   ]
  },
  {
   "cell_type": "code",
   "execution_count": 60,
   "id": "15b67f4a",
   "metadata": {},
   "outputs": [
    {
     "name": "stdout",
     "output_type": "stream",
     "text": [
      "Suas notas. \n",
      "Matemática: 7 \n",
      "Ciências: 8.5 \n",
      "História: 9.5 \n",
      "A média ponderada das notas é: 8.7\n"
     ]
    }
   ],
   "source": [
    "#seu codigo aqui!\n",
    "\n",
    "def calc():\n",
    "    math = 7\n",
    "    cience = 8.5\n",
    "    history = 9.5\n",
    "    media = (math*2 + cience*3 + history*5) / (2 + 3 + 5)\n",
    "    print(f'Suas notas. \\nMatemática: {math} \\nCiências: {cience} \\nHistória: {history} \\nA média ponderada das notas é: {media}')\n",
    "    return\n",
    "\n",
    "calc()"
   ]
  },
  {
   "cell_type": "markdown",
   "id": "a411f83c",
   "metadata": {},
   "source": [
    "## Exercício 8: Calcular a área de um círculo\n",
    "### Situação Problema: Você está pintando um alvo circular em uma parede. O raio do círculo é 2 metros. Qual é a área total que você precisa pintar?"
   ]
  },
  {
   "cell_type": "code",
   "execution_count": 63,
   "id": "e7a46d2d",
   "metadata": {},
   "outputs": [
    {
     "name": "stdout",
     "output_type": "stream",
     "text": [
      "O raio do círculo mede 2 metros. Sendo assim, a área mede 12.56 metros.\n"
     ]
    }
   ],
   "source": [
    "#seu codigo aqui!\n",
    "\n",
    "def calc():\n",
    "    r = 2 \n",
    "    a = 3.14 * r**2\n",
    "    print(f'O raio do círculo mede {r} metros. Sendo assim, a área mede {a} metros.')\n",
    "    return\n",
    "\n",
    "calc()"
   ]
  },
  {
   "cell_type": "markdown",
   "id": "1d16b12a",
   "metadata": {},
   "source": [
    "## Exercício 9: Converter quilômetros para milhas\n",
    "### Situação Problema: Você está planejando uma viagem de carro. O percurso tem 200 quilômetros de extensão. Qual é a distância equivalente em milhas?\n",
    "\n",
    "\n",
    "\n",
    "\n"
   ]
  },
  {
   "cell_type": "code",
   "execution_count": 64,
   "id": "1ca02ada",
   "metadata": {},
   "outputs": [
    {
     "name": "stdout",
     "output_type": "stream",
     "text": [
      "O percurso tem 200 quilômetros ou 124.0 milhas.\n"
     ]
    }
   ],
   "source": [
    "#seu codigo aqui!\n",
    "\n",
    "def calc():\n",
    "    route = 200\n",
    "    m = route * 0.62\n",
    "    print(f'O percurso tem {route} quilômetros ou {m} milhas.')\n",
    "    return\n",
    "\n",
    "calc()"
   ]
  },
  {
   "cell_type": "markdown",
   "id": "b19544a3",
   "metadata": {},
   "source": [
    "## Exercício 10: Calcular a média aritmética de quatro números\n",
    "### Situação Problema: Você está acompanhando as notas de um aluno em quatro provas: 6.5, 7.0, 8.5 e 9.0. Qual é a média aritmética dessas quatro notas?\n",
    "\n",
    "\n"
   ]
  },
  {
   "cell_type": "code",
   "execution_count": 71,
   "id": "10c84074",
   "metadata": {},
   "outputs": [
    {
     "name": "stdout",
     "output_type": "stream",
     "text": [
      "Notas: [6.5, 7.0, 8.5, 9.0]. \n",
      "A média aritmética das notas é 6.\n"
     ]
    }
   ],
   "source": [
    "#seu codigo aqui!\n",
    "\n",
    "n = [6.5, 7.0, 8.5, 9.0]\n",
    "\n",
    "def calc():\n",
    "    for i, notas in enumerate(n):\n",
    "        i += i\n",
    "    return print(f'Notas: {n}. \\nA média aritmética das notas é {i}.')\n",
    "\n",
    "calc()"
   ]
  }
 ],
 "metadata": {
  "kernelspec": {
   "display_name": "Python 3 (ipykernel)",
   "language": "python",
   "name": "python3"
  },
  "language_info": {
   "codemirror_mode": {
    "name": "ipython",
    "version": 3
   },
   "file_extension": ".py",
   "mimetype": "text/x-python",
   "name": "python",
   "nbconvert_exporter": "python",
   "pygments_lexer": "ipython3",
   "version": "3.10.9"
  }
 },
 "nbformat": 4,
 "nbformat_minor": 5
}

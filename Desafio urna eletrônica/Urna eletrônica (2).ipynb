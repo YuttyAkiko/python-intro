{
 "cells": [
  {
   "cell_type": "markdown",
   "id": "28159d01",
   "metadata": {},
   "source": [
    "# Atividade Urna de Votação"
   ]
  },
  {
   "cell_type": "code",
   "execution_count": null,
   "id": "02d3d16d",
   "metadata": {},
   "outputs": [],
   "source": [
    "from IPython.display import Image, display\n",
    "display(Image(filename='urnas.jpeg', width=400, height=300))  # Substitua 300 e 200 pelos valores desejados\n",
    "# Colocar uma imagem do arquivo local"
   ]
  },
  {
   "cell_type": "markdown",
   "id": "0a1f8c64",
   "metadata": {},
   "source": [
    "### Chegou o momento de concluirmos nosso ciclo de aprendizado em backend com Python! Desde as primeiras linhas de código até as estruturas condicionais e comparadores, exploramos um mundo de possibilidades. Agora, vamos aplicar nosso conhecimento em um projeto empolgante: a criação de uma \"Urna Eletrônica\" para as futuras votações na Escola SENAI Morvan Figueiredo."
   ]
  },
  {
   "cell_type": "markdown",
   "id": "77753307",
   "metadata": {},
   "source": [
    "### Objetivo: \n",
    "####   Criar uma urna eletrônica em Python para realizar uma simulação de votação entre candidatos fictícios na escola SENAI Morvan Figueiredo."
   ]
  },
  {
   "cell_type": "markdown",
   "id": "ca4c538c",
   "metadata": {},
   "source": [
    "### Descrição:\n",
    "\n",
    "#### Na \"Urna Eletrônica\" que vamos desenvolver, cada grupo de alunos será responsável por construir um sistema simulado de votação. Os candidatos imaginários, e todos terão a oportunidade de exercer seu direito de voto em um ambiente virtual.\n",
    "\n",
    "### Passos da Atividade:\n",
    "\n",
    "#### Passo 1: Forme equipes no máximo 3 alunos.\n",
    "\n",
    "\n",
    "\n",
    "#### Passo 2: Criando os Candidatos e Partidos\n",
    "\n",
    "#### Criar uma lista de candidatos fictícios, atribuindo a cada um um nome, número e partido imaginário.\n",
    "\n",
    "#### Passo 3: Simulando a Votação\n",
    "\n",
    "#### Implemente um loop de votação que permita que os alunos escolham um candidato apenas pelo número.\n",
    "#### Use um dicionário para registrar a quantidade de votos que cada candidato recebeu.\n",
    "\n",
    "#### Passo 4: Contagem e Anúncio dos Resultados\n",
    "\n",
    "#### Ao encerrar a votação, exiba um relatório com os resultados da votação.\n",
    "#### Mostre os candidatos, seus números, partidos e a quantidade de votos recebidos por cada um.\n",
    "#### Anuncie o candidato vencedor, aquele que recebeu mais votos."
   ]
  },
  {
   "cell_type": "markdown",
   "id": "35ef61ec",
   "metadata": {},
   "source": [
    "### Lembrete: \n",
    "#### Esta atividade não é apenas sobre programar, mas também sobre compreender a importância das eleições, trabalhar em equipe e aplicar conceitos de programação em cenários do mundo real. "
   ]
  },
  {
   "cell_type": "code",
   "execution_count": 6,
   "id": "92bb3c4c",
   "metadata": {},
   "outputs": [
    {
     "name": "stdout",
     "output_type": "stream",
     "text": [
      "Dados inválidos. Todos os campos são obrigatórios.\n"
     ]
    }
   ],
   "source": [
    "# Desenvolva seu código aqui!\n",
    "\n",
    "# Fazer uma função para cadastrar os candidatos\n",
    "# Fazer uma função para validar se o candidato tem nome, partido e número\n",
    "# Fazer uma função para verificar se há mais de dois candidatos para iniciar a votação\n",
    "# Fazer uma função para verificar os votos, se há votos nulos\n",
    "# Fazer uma função para contar os votos, e contar porcentagem de votos\n",
    "# Fazer uma função para verificar e imprimir o vencedor e a colocação de cada candidato\n",
    "\n",
    "# Lista para armazenar os candidatos\n",
    "candidatos = []\n",
    "\n",
    "# Função para cadastrar um candidato\n",
    "def cadastrar_candidato(nome, partido, numero):\n",
    "    candidato = {'nome': nome, 'partido': partido,'numero': numero, 'votos': 0}\n",
    "    candidatos.append(candidato)\n",
    "    print(f'Candidato {nome} cadastrado com sucesso!')\n",
    "\n",
    "# Função para validar os dados de um candidato\n",
    "def validar_candidato(nome, partido, numero):\n",
    "    if nome.strip() == '' or partido.strip() == '' or numero.strip() == '':\n",
    "        return False\n",
    "    return True\n",
    "\n",
    "# Função para verificar se há mais de dois candidatos\n",
    "def verificar_minimo_candidatos():\n",
    "    return len(candidatos) >= 2\n",
    "\n",
    "# Função para votar em um candidato\n",
    "def votar(numero):\n",
    "    for candidato in candidatos:\n",
    "        if candidato['numero'] == numero:\n",
    "            candidato['votos'] += 1\n",
    "            print(f'Voto registrado para {candidato[\"nome\"]}')\n",
    "            return\n",
    "    print(f'Candidato com número {numero} não encontrado. Voto nulo.')\n",
    "\n",
    "# Função para contar os votos e calcular a porcentagem\n",
    "def contar_votos():\n",
    "    total_votos = sum(candidato['votos'] for candidato in candidatos)\n",
    "    if total_votos == 0:\n",
    "        return []\n",
    "    resultado = []\n",
    "    for candidato in candidatos:\n",
    "        porcentagem = (candidato['votos'] / total_votos) * 100\n",
    "        resultado.append(\n",
    "            {'nome': candidato['nome'], 'votos': candidato['votos'], 'porcentagem': porcentagem})\n",
    "    return resultado\n",
    "\n",
    "# Função para verificar e imprimir o vencedor e a colocação\n",
    "def verificar_vencedor_e_colocacao():\n",
    "    resultado = contar_votos()\n",
    "    if not resultado:\n",
    "        print('Nenhum voto registrado. Não há vencedor.')\n",
    "        return\n",
    "\n",
    "    resultado.sort(key=lambda x: x['votos'], reverse=True)\n",
    "    vencedor = resultado[0]\n",
    "\n",
    "    print(f'Vencedor: {vencedor[\"nome\"]} com {vencedor[\"votos\"]} votos ({vencedor[\"porcentagem\"]: .2f}%)')\n",
    "\n",
    "    print('Colocação:')\n",
    "    for i, candidato in enumerate(resultado, start=1):\n",
    "        print(f'{i}º lugar: {candidato[\"nome\"]} com {candidato[\"votos\"]} votos ({candidato[\"porcentagem\"]: .2f}%)')\n",
    "\n",
    "\n",
    "# Exemplo de uso\n",
    "if __name__ == '__main__':\n",
    "    while True:\n",
    "        input()\n",
    "\n",
    "        opcao = input(\n",
    "            'Escolha uma opção: \\n1 - Cadastrar candidato \\n2 - Votar \\n3 - Verificar vencedor e colocação \\n4 - Sair')\n",
    "\n",
    "        if opcao == '1':\n",
    "            nome = input('Nome do candidato: ')\n",
    "            partido = input('Partido: ')\n",
    "            numero = input('Número: ')\n",
    "            if validar_candidato(nome, partido, numero):\n",
    "                cadastrar_candidato(nome, partido, numero)\n",
    "            else:\n",
    "                print('Dados inválidos. Todos os campos são obrigatórios.')\n",
    "\n",
    "        elif opcao == '2':\n",
    "            if verificar_minimo_candidatos():\n",
    "                numero = input('Digite o número do candidato: ')\n",
    "                votar(numero)\n",
    "            else:\n",
    "                print(\n",
    "                    'É necessário cadastrar pelo menos dois candidatos antes de votar.')\n",
    "\n",
    "        elif opcao == '3':\n",
    "            verificar_vencedor_e_colocacao()\n",
    "\n",
    "        elif opcao == '4':\n",
    "            break"
   ]
  },
  {
   "cell_type": "code",
   "execution_count": null,
   "id": "c90eb2df",
   "metadata": {},
   "outputs": [],
   "source": []
  }
 ],
 "metadata": {
  "kernelspec": {
   "display_name": "Python 3 (ipykernel)",
   "language": "python",
   "name": "python3"
  },
  "language_info": {
   "codemirror_mode": {
    "name": "ipython",
    "version": 3
   },
   "file_extension": ".py",
   "mimetype": "text/x-python",
   "name": "python",
   "nbconvert_exporter": "python",
   "pygments_lexer": "ipython3",
   "version": "3.11.5"
  }
 },
 "nbformat": 4,
 "nbformat_minor": 5
}

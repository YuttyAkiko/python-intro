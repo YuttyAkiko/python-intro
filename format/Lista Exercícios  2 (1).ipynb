{
 "cells": [
  {
   "cell_type": "markdown",
   "id": "a220e4e2",
   "metadata": {},
   "source": [
    "# Exercícios do Módulo 5 - Metódo .format"
   ]
  },
  {
   "cell_type": "markdown",
   "id": "737f7ee0",
   "metadata": {},
   "source": [
    "## Crie programas em python para atender as especificações abaixo."
   ]
  },
  {
   "cell_type": "markdown",
   "id": "33904d99",
   "metadata": {},
   "source": [
    "#####\n",
    "\n",
    "\n",
    "\n",
    "\n",
    "\n",
    "\n"
   ]
  },
  {
   "cell_type": "markdown",
   "id": "6f2fae2c",
   "metadata": {},
   "source": [
    "####"
   ]
  },
  {
   "cell_type": "markdown",
   "id": "b9d7d65b",
   "metadata": {},
   "source": [
    "# 1 - Faça um programa que peça o nome de um país, a capital e o idioma oficial e exiba uma mensagem com essas informações."
   ]
  },
  {
   "cell_type": "code",
   "execution_count": 5,
   "id": "1b62af10",
   "metadata": {},
   "outputs": [
    {
     "name": "stdout",
     "output_type": "stream",
     "text": [
      "Digite o nome de um país Brasil\n",
      "Digite a capital Tóquio\n",
      "Digite o idioma Alemão\n",
      "O país é Brasil. A sua capital é Tóquio. E o idioma é Alemão\n"
     ]
    }
   ],
   "source": [
    "country = input('Digite o nome de um país ')\n",
    "capital = input('Digite a capital ')\n",
    "language = input('Digite o idioma ')\n",
    "\n",
    "print('O país é {}. A sua capital é {}. E o idioma é {}' .format(country, capital, language))"
   ]
  },
  {
   "cell_type": "markdown",
   "id": "5d617672",
   "metadata": {},
   "source": [
    "# 2 - Escreva um programa que peça dois números e exiba a soma deles."
   ]
  },
  {
   "cell_type": "code",
   "execution_count": 7,
   "id": "2c842c57",
   "metadata": {},
   "outputs": [
    {
     "name": "stdout",
     "output_type": "stream",
     "text": [
      "Digite o primeiro número 2\n",
      "Digite o segundo número 2\n",
      "A soma dos dois números é 4\n"
     ]
    }
   ],
   "source": [
    "n1 = int(input('Digite o primeiro número '))\n",
    "n2 = int(input('Digite o segundo número '))\n",
    "soma = n1 + n2\n",
    "\n",
    "print('A soma dos dois números é {}' .format(soma))"
   ]
  },
  {
   "cell_type": "markdown",
   "id": "78770cac",
   "metadata": {},
   "source": [
    "# 3 - Faça um programa que solicite o nome e a idade do usuário e exiba uma mensagem personalizada."
   ]
  },
  {
   "cell_type": "code",
   "execution_count": 8,
   "id": "85cc64da",
   "metadata": {},
   "outputs": [
    {
     "name": "stdout",
     "output_type": "stream",
     "text": [
      "Digite o seu nome Yutty\n",
      "Digite a sua idade 29\n",
      "Olá! Yutty. Sua idade é 29. Você é maior de idade.\n"
     ]
    }
   ],
   "source": [
    "name = input('Digite o seu nome ')\n",
    "age = int(input('Digite a sua idade '))\n",
    "\n",
    "if(age >= 18) :\n",
    "    print('Olá! {}. Sua idade é {}. Você é maior de idade.' . format(name, age))\n",
    "if(age < 18) :\n",
    "    print('Olá! {}. Sua idade é {}. Você é menor de idade.' .format(name, age))\n"
   ]
  },
  {
   "cell_type": "markdown",
   "id": "259a4bbf",
   "metadata": {},
   "source": [
    "# 4 - Crie duas variáveis para armazenar valores numéricos e exiba o resultado da soma."
   ]
  },
  {
   "cell_type": "code",
   "execution_count": 9,
   "id": "2d4313e9",
   "metadata": {},
   "outputs": [
    {
     "name": "stdout",
     "output_type": "stream",
     "text": [
      "Digite o primeiro número 1\n",
      "Digite o segundo número 1\n",
      "A soma dos dois números é 2\n"
     ]
    }
   ],
   "source": [
    "n1 = int(input('Digite o primeiro número '))\n",
    "n2 = int(input('Digite o segundo número '))\n",
    "sum = n1 + n2\n",
    "\n",
    "print('A soma dos dois números é {}' .format(soma))"
   ]
  },
  {
   "cell_type": "markdown",
   "id": "a4b642fa",
   "metadata": {},
   "source": [
    "# 5 -  Escreva um programa que peça o nome do usuário e exiba uma mensagem de boas-vindas."
   ]
  },
  {
   "cell_type": "code",
   "execution_count": null,
   "id": "dfee06bd",
   "metadata": {},
   "outputs": [],
   "source": [
    "name = input('Digite o seu nome ')\n",
    "\n",
    "print('Seja bem-vindo(a)! {}' .format(name))"
   ]
  },
  {
   "cell_type": "markdown",
   "id": "1aa984cf",
   "metadata": {},
   "source": [
    "#  6 - Você foi contratado para desenvolver um programa que auxilie um petshop a gerar mensagens personalizadas para seus clientes. O programa deve solicitar algumas informações do cliente e, em seguida, exibir uma mensagem customizada com base nos dados fornecidos.\n",
    "\n",
    "O programa deve conter as seguintes etapas:\n",
    "\n",
    "Solicitar ao usuário que digite seu nome, o nome do seu pet (animal de estimação) e a espécie do pet (por exemplo, cachorro, gato, pássaro, etc.).\n",
    "\n",
    "Em seguida, peça ao usuário que informe a idade do pet em anos.\n",
    "\n",
    "Solicite também ao usuário que informe se o pet já tomou todas as vacinas obrigatórias (responda com \"Sim\" ou \"Não\").\n",
    "\n",
    "Com base nas informações coletadas, o programa deve gerar uma mensagem personalizada para o cliente. A mensagem deve incluir o nome do cliente, o nome do pet, a espécie do pet, sua idade em anos e se já tomou todas as vacinas obrigatórias."
   ]
  },
  {
   "cell_type": "code",
   "execution_count": 18,
   "id": "72c15eff",
   "metadata": {},
   "outputs": [
    {
     "name": "stdout",
     "output_type": "stream",
     "text": [
      "Digite o seu nome Yutty\n",
      "Digite o nome do seu animal de estimação Aslan\n",
      "Digite a espécie do seu animal de estimação gato\n",
      "Digite a idade do seu animal de estimação (em anos) 5\n",
      "Seu animal de estimação já tomou todas as vacinas obrigatórias? \"Sim\" ou \"Não\"? Sim\n",
      "\n",
      " Olá! Yutty. \n",
      " Seja bem-vindo(a) ao PetShop. \n",
      "\n",
      " O seu animal de estimação se chama Aslan. \n",
      " Ele é um(a) gato. \n",
      " Tem 5 anos. \n",
      " Tomou todas as vacinas obrigatórias? Sim \n",
      " Obrigado(a) pela preferência! \n",
      " Volte Sempre!\n"
     ]
    }
   ],
   "source": [
    "name = input('Digite o seu nome ')\n",
    "pet = input('Digite o nome do seu animal de estimação ')\n",
    "especies = input('Digite a espécie do seu animal de estimação ')\n",
    "pet_age = int(input('Digite a idade do seu animal de estimação (em anos) '))\n",
    "vaccine = input('Seu animal de estimação já tomou todas as vacinas obrigatórias? \"Sim\" ou \"Não\"? ')\n",
    "\n",
    "print('\\n Olá! {}. \\n\\n Seja bem-vindo(a) ao PetShop. \\n\\n O seu animal de estimação se chama {}. \\n Ele é um(a) {}. \\n Tem {} anos. \\n Tomou todas as vacinas obrigatórias? {} \\n\\n Obrigado(a) pela preferência! \\n Volte Sempre!' .format(name, pet, especies, pet_age, vaccine))"
   ]
  }
 ],
 "metadata": {
  "kernelspec": {
   "display_name": "Python 3 (ipykernel)",
   "language": "python",
   "name": "python3"
  },
  "language_info": {
   "codemirror_mode": {
    "name": "ipython",
    "version": 3
   },
   "file_extension": ".py",
   "mimetype": "text/x-python",
   "name": "python",
   "nbconvert_exporter": "python",
   "pygments_lexer": "ipython3",
   "version": "3.10.9"
  }
 },
 "nbformat": 4,
 "nbformat_minor": 5
}

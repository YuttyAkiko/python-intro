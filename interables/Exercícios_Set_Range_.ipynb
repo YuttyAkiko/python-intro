{
  "nbformat": 4,
  "nbformat_minor": 0,
  "metadata": {
    "colab": {
      "provenance": []
    },
    "kernelspec": {
      "name": "python3",
      "display_name": "Python 3"
    },
    "language_info": {
      "name": "python"
    }
  },
  "cells": [
    {
      "cell_type": "markdown",
      "source": [
        "# Exercícios iterables - set - range"
      ],
      "metadata": {
        "id": "rsCcO7j-xv-T"
      }
    },
    {
      "cell_type": "markdown",
      "source": [
        "\n",
        "\n",
        "\n",
        "\n",
        "\n",
        "\n",
        "\n",
        "\n",
        "\n",
        "."
      ],
      "metadata": {
        "id": "p15zoqjcx_E0"
      }
    },
    {
      "cell_type": "markdown",
      "source": [
        "# Vamos mergulhar em uma jornada empolgante pelo mundo da programação em Python, explorando dois métodos poderosos: set() e range(). Vamos entender por que esses métodos são essenciais e como eles podem ser aplicados em várias situações para resolver problemas de maneira eficaz e elegante."
      ],
      "metadata": {
        "id": "KwqaC7qlxpsE"
      }
    },
    {
      "cell_type": "code",
      "source": [],
      "metadata": {
        "id": "0ODmnhidtw-Q"
      },
      "execution_count": null,
      "outputs": []
    },
    {
      "cell_type": "code",
      "source": [],
      "metadata": {
        "id": "pbRVWhjYtxAQ"
      },
      "execution_count": null,
      "outputs": []
    },
    {
      "cell_type": "markdown",
      "source": [
        "Um usuário deseja gerar um conjunto de números de 0 até o valor que ele fornece como entrada. Ele quer ver a sequência de números até esse ponto.\n",
        "\n",
        "Exercício 1:\n",
        "Peça ao usuário para digitar um número inteiro. Use o método range() para gerar os números de 0 até esse número e, em seguida, crie um conjunto (set()) a partir desses números. Finalmente, exiba o conjunto resultante."
      ],
      "metadata": {
        "id": "P9Aqv322t_p4"
      }
    },
    {
      "cell_type": "code",
      "source": [],
      "metadata": {
        "id": "zciq4waE_w95"
      },
      "execution_count": null,
      "outputs": []
    },
    {
      "cell_type": "markdown",
      "source": [
        "Um professor quer criar um conjunto de notas dos alunos em uma faixa específica. Ele deseja saber as notas únicas nessa faixa.\n",
        "\n",
        "Exercício 2:\n",
        "Peça ao usuário para digitar um intervalo de notas, por exemplo, de 0 a 100. Utilize o método range() para gerar uma lista de notas nesse intervalo. Converta essa lista em um conjunto (set()) e exiba-o."
      ],
      "metadata": {
        "id": "2u4CTx1xuNm4"
      }
    },
    {
      "cell_type": "code",
      "source": [],
      "metadata": {
        "id": "JKUTpK54_xh4"
      },
      "execution_count": null,
      "outputs": []
    },
    {
      "cell_type": "markdown",
      "source": [
        "Você está organizando um evento onde precisa distribuir números de identificação únicos para os participantes. Cada número deve ser par e estar dentro de um certo intervalo.\n",
        "\n",
        "Exercício 3:\n",
        "Defina um intervalo de números, como de 10 a 50. Utilize o método range() para gerar uma lista de números pares dentro desse intervalo. Converta essa lista em um conjunto (set()) e exiba-o."
      ],
      "metadata": {
        "id": "DDIDT61luYpt"
      }
    },
    {
      "cell_type": "markdown",
      "source": [],
      "metadata": {
        "id": "F_UWT9ID_zmZ"
      }
    },
    {
      "cell_type": "code",
      "source": [],
      "metadata": {
        "id": "H9JGpLnU_y3x"
      },
      "execution_count": null,
      "outputs": []
    },
    {
      "cell_type": "markdown",
      "source": [
        "Um usuário deseja saber todos os divisores de um número inteiro que ele fornece. Ele está interessado apenas nos divisores até a raiz quadrada desse número.\n",
        "\n",
        "Exercício 4:\n",
        "Peça ao usuário para digitar um número inteiro. Utilize o método range() para iterar sobre os números de 1 até a raiz quadrada desse número. Se o número for divisível por um valor no intervalo, adicione-o a um conjunto (set()) de divisores. Exiba o conjunto resultante."
      ],
      "metadata": {
        "id": "BMmP5QubujDM"
      }
    },
    {
      "cell_type": "markdown",
      "source": [
        "Exercício 5:  Desenvolva um programa que gere um conjunto de letras únicas em uma string dada, utilizando o método set() e um loop sobre a string utilizando o range()."
      ],
      "metadata": {
        "id": "J7c5jaSfvRLA"
      }
    },
    {
      "cell_type": "code",
      "source": [],
      "metadata": {
        "id": "cq2F4fDj_1IA"
      },
      "execution_count": null,
      "outputs": []
    },
    {
      "cell_type": "markdown",
      "source": [
        "Exercício 6:\n",
        "Situação-Problema: Um professor deseja manter um registro dos livros lidos por seus alunos durante o ano. Ele quer um conjunto de títulos únicos dos livros."
      ],
      "metadata": {
        "id": "BaO0w4pevrjx"
      }
    },
    {
      "cell_type": "code",
      "source": [],
      "metadata": {
        "id": "gSt7kLbK_21A"
      },
      "execution_count": null,
      "outputs": []
    },
    {
      "cell_type": "markdown",
      "source": [
        "Exercício 7:\n",
        "Situação-Problema: Um programador está verificando erros de digitação em um trecho de código. Ela quer encontrar todas as teclas únicas pressionadas durante a digitação."
      ],
      "metadata": {
        "id": "esuu-ylmwHkc"
      }
    },
    {
      "cell_type": "code",
      "source": [],
      "metadata": {
        "id": "enrccPgP_53w"
      },
      "execution_count": null,
      "outputs": []
    },
    {
      "cell_type": "markdown",
      "source": [
        "Exercício 8:\n",
        "Situação-Problema: Um jogador de palavras cruzadas deseja saber todas as letras únicas que ele já utilizou em suas palavras."
      ],
      "metadata": {
        "id": "3_XLTZG4wQXN"
      }
    },
    {
      "cell_type": "code",
      "source": [],
      "metadata": {
        "id": "nndjeLXo_5YI"
      },
      "execution_count": null,
      "outputs": []
    },
    {
      "cell_type": "markdown",
      "source": [
        "Exercício 9:\n",
        "Situação-Problema: Um gerente de loja deseja criar um programa de fidelidade. Ele quer manter um registro único dos números de telefone dos clientes que realizam compras."
      ],
      "metadata": {
        "id": "7kzPhQEmwaUO"
      }
    },
    {
      "cell_type": "code",
      "source": [],
      "metadata": {
        "id": "4DmZP3dm_8aQ"
      },
      "execution_count": null,
      "outputs": []
    },
    {
      "cell_type": "markdown",
      "source": [
        "Exercício 10:\n",
        "Situação-Problema: Você está organizando um torneio esportivo e precisa criar um conjunto de equipes únicas que se inscreveram."
      ],
      "metadata": {
        "id": "d_RYimcpweye"
      }
    },
    {
      "cell_type": "code",
      "source": [],
      "metadata": {
        "id": "g5NIxrFw_83I"
      },
      "execution_count": null,
      "outputs": []
    },
    {
      "cell_type": "markdown",
      "source": [],
      "metadata": {
        "id": "9A3ObHIhuoJ4"
      }
    }
  ]
}
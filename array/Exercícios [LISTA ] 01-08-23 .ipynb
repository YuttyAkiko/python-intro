{
 "cells": [
  {
   "cell_type": "markdown",
   "id": "c68d6f8e",
   "metadata": {},
   "source": [
    "# Exercícios - Testando Conhecimentos Aprendidos em Aula\n",
    "\n",
    "### Neste conjunto de exercícios, você será desafiado a aplicar os conceitos aprendidos sobre listas em Python. Os exercícios abrangem operações como criação de listas, remoção de elementos, adição de itens, índices, uso de list comprehensions e muito mais. Siga as instruções de cada exercício e tente resolver utilizando apenas o código dentro do script."
   ]
  },
  {
   "cell_type": "markdown",
   "id": "69d0f7dc",
   "metadata": {},
   "source": [
    "##"
   ]
  },
  {
   "cell_type": "markdown",
   "id": "ec501626",
   "metadata": {},
   "source": [
    "### 1 - Crie uma lista contendo os nomes de 5 países. Peça ao usuário para inserir o nome de mais um país. Em seguida, verifique se o país fornecido pelo usuário está na lista e exiba uma mensagem informando se ele está ou não na lista."
   ]
  },
  {
   "cell_type": "code",
   "execution_count": 7,
   "id": "db57457f",
   "metadata": {},
   "outputs": [
    {
     "name": "stdout",
     "output_type": "stream",
     "text": [
      "Estados Unidos é o 3º país mais populado no mundo!\n"
     ]
    }
   ],
   "source": [
    "countries = ['Índia', 'China', 'Estados Unidos', 'Indonésia', 'Paquistão' ]\n",
    "\n",
    "country = input('Digite um dos 5 países mais populosos do mundo')\n",
    "\n",
    "i = countries.index(country)\n",
    "\n",
    "if country in countries :\n",
    "    print('{} é o {}º país mais populado no mundo!' .format(country, i+1))\n",
    "else :\n",
    "    print('O país digitado não está na lista dos 5 países mais populosos do mundo')"
   ]
  },
  {
   "cell_type": "markdown",
   "id": "979aeae5",
   "metadata": {},
   "source": [
    "### 2 - Crie uma lista contendo os preços de 5 produtos. Em seguida, calcule e exiba o preço médio desses produtos."
   ]
  },
  {
   "cell_type": "code",
   "execution_count": 2,
   "id": "2748950b",
   "metadata": {},
   "outputs": [
    {
     "name": "stdout",
     "output_type": "stream",
     "text": [
      "Os preços são: [100, 220, 80, 70, 50]. \n",
      " E a média dos preços é: 104.0.\n"
     ]
    }
   ],
   "source": [
    "prices = [100, 220, 80, 70, 50]\n",
    "\n",
    "media = sum(prices) / len(prices)\n",
    "\n",
    "print('Os preços são: {}. \\n E a média dos preços é: {}.' .format(prices, media))"
   ]
  },
  {
   "cell_type": "markdown",
   "id": "504c48df",
   "metadata": {},
   "source": [
    "  ### 3 - Crie uma lista com 5 cores diferentes. Peça ao usuário para inserir o nome de uma cor. Se a cor estiver na lista, remova-a e exiba a lista atualizada. Caso contrário, exiba uma mensagem informando que a cor não foi encontrada."
   ]
  },
  {
   "cell_type": "code",
   "execution_count": 4,
   "id": "f2681580",
   "metadata": {},
   "outputs": [
    {
     "name": "stdout",
     "output_type": "stream",
     "text": [
      "Cores: ['azul', 'amarelo', 'vermelho', 'verde']\n"
     ]
    }
   ],
   "source": [
    "colors = ['azul', 'amarelo', 'vermelho', 'verde', 'laranja']\n",
    "\n",
    "color = input('Digite uma cor')\n",
    "\n",
    "if color in colors :\n",
    "    color = colors.remove(color)\n",
    "else :\n",
    "    print('A cor informada não está na lista')\n",
    "\n",
    "print('Cores: {}' .format(colors))"
   ]
  },
  {
   "cell_type": "markdown",
   "id": "536d487d",
   "metadata": {},
   "source": [
    "### 4 - Escreva um programa que leia duas listas de números do usuário e verifique se elas têm o mesmo comprimento e se possuem elementos iguais nas mesmas posições. Exiba uma mensagem informando se as listas são iguais ou diferentes."
   ]
  },
  {
   "cell_type": "code",
   "execution_count": 16,
   "id": "612d02de",
   "metadata": {},
   "outputs": [
    {
     "name": "stdout",
     "output_type": "stream",
     "text": [
      "As listas são diferentes!\n"
     ]
    }
   ],
   "source": [
    "list_1 = [1564, 4978, 4978, 4897, 156]\n",
    "list_2 = [1564, 4978, 4978, 4897]\n",
    "\n",
    "if len(list_1) == len(list_2) and list_1 in list_2:\n",
    "    print('As listas são iguais!')\n",
    "else :\n",
    "    print('As listas são diferentes!')"
   ]
  },
  {
   "cell_type": "markdown",
   "id": "462e7a14",
   "metadata": {},
   "source": [
    "### 5 - Crie uma lista contendo 10 números. Em seguida, solicite ao usuário que insira um número. Verifique se o número fornecido pelo usuário está na lista e, se estiver, exiba em quantas posições ele aparece."
   ]
  },
  {
   "cell_type": "code",
   "execution_count": null,
   "id": "4faa687c",
   "metadata": {},
   "outputs": [],
   "source": []
  },
  {
   "cell_type": "markdown",
   "id": "dcf80a5a",
   "metadata": {},
   "source": [
    "### 6 - Escreva uma função que recebe uma palavra e verifica se é um palíndromo, ou seja, se a palavra é igual quando lida de trás para frente."
   ]
  },
  {
   "cell_type": "code",
   "execution_count": null,
   "id": "8855c87e",
   "metadata": {},
   "outputs": [],
   "source": [
    "# index(::-1) Inverte a leitura da palavra"
   ]
  },
  {
   "cell_type": "markdown",
   "id": "7a0ff2fc",
   "metadata": {},
   "source": [
    "### 7 - Escreva uma função que recebe duas listas e retorna uma nova lista que é a concatenação das duas."
   ]
  },
  {
   "cell_type": "code",
   "execution_count": null,
   "id": "3ce93eaf",
   "metadata": {},
   "outputs": [],
   "source": []
  },
  {
   "cell_type": "markdown",
   "id": "1616e8c8",
   "metadata": {},
   "source": [
    "### 8 - Escreva uma função que recebe uma lista e dois índices e troca os elementos presentes nos índices fornecidos."
   ]
  },
  {
   "cell_type": "code",
   "execution_count": null,
   "id": "afa9e00a",
   "metadata": {},
   "outputs": [],
   "source": []
  },
  {
   "cell_type": "markdown",
   "id": "d77bef5e",
   "metadata": {},
   "source": [
    "### 9 - Escreva uma função que recebe uma lista e retorna uma nova lista com os elementos invertidos na ordem."
   ]
  },
  {
   "cell_type": "code",
   "execution_count": null,
   "id": "44da2eb8",
   "metadata": {},
   "outputs": [],
   "source": []
  },
  {
   "cell_type": "markdown",
   "id": "a840c743",
   "metadata": {},
   "source": [
    "### 10 - Escreva uma função que recebe uma lista de palavras e retorna uma nova lista contendo apenas as palavras únicas, ou seja, palavras que aparecem apenas uma vez na lista."
   ]
  },
  {
   "cell_type": "code",
   "execution_count": null,
   "id": "0924cdcc",
   "metadata": {},
   "outputs": [],
   "source": []
  }
 ],
 "metadata": {
  "kernelspec": {
   "display_name": "Python 3 (ipykernel)",
   "language": "python",
   "name": "python3"
  },
  "language_info": {
   "codemirror_mode": {
    "name": "ipython",
    "version": 3
   },
   "file_extension": ".py",
   "mimetype": "text/x-python",
   "name": "python",
   "nbconvert_exporter": "python",
   "pygments_lexer": "ipython3",
   "version": "3.11.4"
  }
 },
 "nbformat": 4,
 "nbformat_minor": 5
}

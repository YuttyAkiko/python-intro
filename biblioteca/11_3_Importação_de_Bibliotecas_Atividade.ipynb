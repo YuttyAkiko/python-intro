{
  "cells": [
    {
      "cell_type": "markdown",
      "metadata": {
        "id": "7cSjkBggT5jc"
      },
      "source": [
        "# **Exercício 1:**\n",
        "\n",
        "---\n",
        "\n",
        "Faça um programa que calcule a raiz quadrada de um número inteiro fornecido pelo usuário. Utilize a biblioteca math para realizar o cálculo."
      ]
    },
    {
      "cell_type": "code",
      "execution_count": 1,
      "metadata": {
        "id": "Z_bnJxYGT0_o"
      },
      "outputs": [
        {
          "name": "stdout",
          "output_type": "stream",
          "text": [
            "A raiz quadrada do número 9 é 3.\n"
          ]
        }
      ],
      "source": [
        "from math import sqrt\n",
        "\n",
        "number = int(input('Digite um número inteiro'))\n",
        "square_cubic = sqrt(number)\n",
        "\n",
        "print('A raiz quadrada do número {} é {:.0f}.' .format(number, square_cubic))"
      ]
    },
    {
      "cell_type": "markdown",
      "metadata": {
        "id": "Sa1-LWktUG_z"
      },
      "source": [
        "# **Exercício 2:**\n",
        "\n",
        "---\n",
        "\n",
        "Crie um programa que gere um número aleatório entre 1 e 100 e peça ao usuário para adivinhar qual é esse número. Utilize a biblioteca random para gerar o número aleatório."
      ]
    },
    {
      "cell_type": "code",
      "execution_count": 6,
      "metadata": {
        "id": "9iOJpg0_ULDC"
      },
      "outputs": [
        {
          "name": "stdout",
          "output_type": "stream",
          "text": [
            "Número inválido!\n",
            "Número inválido!\n",
            "Número inválido!\n",
            "Número inválido!\n",
            "Número inválido!\n"
          ]
        }
      ],
      "source": [
        "import random\n",
        "\n",
        "number_random = random.randrange(1, 100)\n",
        "\n",
        "def validate():\n",
        "    attempts = 0\n",
        "    \n",
        "    while True:\n",
        "        number = int(input('Tente adivinhar o número! Digite um número inteiro entre 1 e 100'))\n",
        "        \n",
        "        if number == number_random:\n",
        "            print('PARABÉNS! Você acertou o número. \\nNúmero sorteado: {} \\nTentativas: {}' .format(number_random, attempts))\n",
        "            break\n",
        "        elif number < number_random:\n",
        "            input('O número digitado é menor que o número sorteado!')\n",
        "            attempts += 1\n",
        "        elif number > number_random:\n",
        "            input('O número digitado é maior que o número sorteado!')\n",
        "            attempts += 1\n",
        "        else:\n",
        "            input('Número inválido!')\n",
        "\n",
        "validate()"
      ]
    },
    {
      "cell_type": "markdown",
      "metadata": {
        "id": "vrAwGLX3UXLq"
      },
      "source": [
        "# **Exercício 3:**\n",
        "\n",
        "---\n",
        "Crie um programa que simule um lançamento de dados. O programa deve gerar um número aleatório entre 1 e 6, representando o valor do dado. Utilizar função randint da biblioteca random"
      ]
    },
    {
      "cell_type": "code",
      "execution_count": 7,
      "metadata": {
        "id": "h2MVf6arUdtz"
      },
      "outputs": [
        {
          "name": "stdout",
          "output_type": "stream",
          "text": [
            "6\n",
            "2\n",
            "6\n",
            "2\n",
            "2\n",
            "4\n",
            "2\n"
          ]
        }
      ],
      "source": [
        "from random import randint\n",
        "\n",
        "def rollDice():\n",
        "    while True:\n",
        "        play = input('Aperte a tecla Enter com a caixa vazia para jogar o dado. Para encerrar o jogo digite 0 e aperte Enter.')\n",
        "        if play == '':\n",
        "            given = randint(1, 6)\n",
        "            print(given)\n",
        "        elif play == '0':\n",
        "            break\n",
        "\n",
        "rollDice()"
      ]
    },
    {
      "cell_type": "markdown",
      "metadata": {
        "id": "RA7LpHIHUgcT"
      },
      "source": [
        "# **Exercício 4:**\n",
        "\n",
        "---\n",
        "Faça um programa que calcule a área de um círculo. O usuário deve fornecer o raio do círculo como entrada. Utilize a biblioteca math para obter o valor de π (pi)."
      ]
    },
    {
      "cell_type": "code",
      "execution_count": 18,
      "metadata": {
        "colab": {
          "base_uri": "https://localhost:8080/"
        },
        "id": "P5X-NK9gUmJT",
        "outputId": "f9a9a301-c690-444f-feb2-7aa5a3695429"
      },
      "outputs": [
        {
          "name": "stdout",
          "output_type": "stream",
          "text": [
            "A área do círculo mede: 28.27cm.\n"
          ]
        }
      ],
      "source": [
        "from math import pi, pow\n",
        "\n",
        "radius = float(input('Digite o raio do círculo em centímetros'))\n",
        "area = pi * pow(radius, 2)\n",
        "\n",
        "print('A área do círculo mede: {:.2f}cm.' .format(area))"
      ]
    },
    {
      "cell_type": "markdown",
      "metadata": {
        "id": "8hhvsHCOUn9T"
      },
      "source": [
        "# **Exercício 5:**\n",
        "\n",
        "---\n",
        "Crie um programa que solicite ao usuário um nome de arquivo e, em seguida, leia o conteúdo desse arquivo e conte quantas palavras diferentes existem no texto. Utilize Counter da biblioteca collections para ajudar na contagem.\n",
        "\n",
        "python\n",
        "C"
      ]
    },
    {
      "cell_type": "code",
      "execution_count": 7,
      "metadata": {
        "id": "01QBl5HWU2xj"
      },
      "outputs": [
        {
          "name": "stdout",
          "output_type": "stream",
          "text": [
            "Conteúdo do arquivo de texto: \n",
            "\n",
            "Era uma casa\n",
            "Muito engraçada\n",
            "Não tinha teto\n",
            "Não tinha nada\n",
            "--------------------------------------------------\n",
            "Quantidade de palavras diferentes no arquivo de texto: 9\n"
          ]
        }
      ],
      "source": [
        "# A estrutura With serve para abrir e fechar o arquivo\n",
        "# 'r' -> read -> ler\n",
        "# 'w' -> write -> escrever\n",
        "# 'a' -> append -> adicionar\n",
        "# read -> para arquivos simples (ex: senhas, tokens, informações únicas)\n",
        "# readlines -> para arquivos maiores\n",
        "# encoding='utf-8' corrigi erros de caracteres\n",
        "\n",
        "from collections import Counter\n",
        "\n",
        "# file_name = input('Digite o nome do arquivo')\n",
        "\n",
        "with open('a-casa.txt', 'r', encoding='utf-8') as file:\n",
        "    text = file.read()\n",
        "    list_words = text.split()\n",
        "    count_words = len(Counter(list_words))\n",
        "    print('Conteúdo do arquivo de texto: \\n\\n{}' .format(text))\n",
        "    print('-'*50)\n",
        "    print('Quantidade de palavras diferentes no arquivo de texto: {}' .format(count_words))\n",
        "\n",
        "file.close()\n",
        "\n",
        "\n"
      ]
    },
    {
      "cell_type": "markdown",
      "metadata": {
        "id": "-xrV_RJ9U_g7"
      },
      "source": [
        "# **Exercício 6:**\n",
        "\n",
        "---\n",
        "Crie um programa que solicite ao usuário uma lista de números separados por vírgula e exiba a média desses números. Utilize a função mean da biblioteca statistics."
      ]
    },
    {
      "cell_type": "code",
      "execution_count": 6,
      "metadata": {
        "id": "0gGOdi8mVFAL"
      },
      "outputs": [
        {
          "name": "stdout",
          "output_type": "stream",
          "text": [
            "1578.83\n"
          ]
        }
      ],
      "source": [
        "from statistics import mean\n",
        "\n",
        "list = [4, 32, 9320, 12, 26, 79]\n",
        "media = mean(list)\n",
        "print('{:.2f}' .format(media))"
      ]
    },
    {
      "cell_type": "markdown",
      "metadata": {
        "id": "CO26JglHXDPs"
      },
      "source": [
        "# **Exercício 7:**\n",
        "\n",
        "---\n",
        "Crie um programa usando a biblioteca tkinter que exiba uma janela com um botão. Quando o botão for clicado, exiba uma mensagem de saudação usando a função messagebox.showinfo().\n"
      ]
    },
    {
      "cell_type": "code",
      "execution_count": 2,
      "metadata": {
        "id": "UQTtWO8SVf7S"
      },
      "outputs": [],
      "source": [
        "from tkinter import *\n",
        "from tkinter import messagebox\n",
        "\n",
        "root = Tk()\n",
        "root.title('Usando caixa de mensagem Tkinter')\n",
        "root.geometry('300x100')\n",
        "root.config(bg='#D8BFD8')\n",
        "\n",
        "def msg1():\n",
        "    messagebox.showinfo('informação', 'Olá Mundo!')\n",
        "\n",
        "Button(root, text='Clique aqui', command=msg1).pack(pady=20)\n",
        "\n",
        "root.mainloop()\n"
      ]
    },
    {
      "cell_type": "markdown",
      "metadata": {
        "id": "0raBCu6fXafW"
      },
      "source": [
        "# **Exercício 8:**\n",
        "\n",
        "---\n",
        "Crie um programa usando a biblioteca tkinter que exiba uma janela com um rótulo de texto e um campo de entrada. Quando o botão for clicado, obtenha o texto do campo de entrada usando a função .get() e exiba uma mensagem de boas-vindas personalizada usando a função messagebox.showinfo().\n"
      ]
    },
    {
      "cell_type": "code",
      "execution_count": 13,
      "metadata": {
        "id": "UgiISJlkXexi"
      },
      "outputs": [],
      "source": [
        "from tkinter import *\n",
        "from tkinter import messagebox\n",
        "import tkinter as tk\n",
        "\n",
        "class App() :\n",
        "  def __init__(self, window) :\n",
        "    window.title('Exercício 8')\n",
        "    window.geometry('500x100')\n",
        "    self.frame1 = tk.Frame(window)\n",
        "    self.frame1.pack(fill='both', padx=20, pady=20)\n",
        "    self.frame2 = tk.Frame(window)\n",
        "    self.frame2.pack(padx=100)\n",
        "\n",
        "    self.label = tk.Label(self.frame1, text='Digite o seu nome:')\n",
        "    self.label.pack(side='left')\n",
        "    self.user = tk.Entry(self.frame1, width=50)\n",
        "    self.user.pack(side='left')\n",
        "    Button(self.frame2, text='Enviar', command=self.msg).pack(side='right')\n",
        "\n",
        "  def msg(self) :\n",
        "    user = self.user.get()\n",
        "    messagebox.showinfo('Informação', 'Seja bem-vindo(a)! ' + user)\n",
        "\n",
        "root = tk.Tk()\n",
        "app = App(root)\n",
        "root.mainloop()\n",
        "\n"
      ]
    },
    {
      "cell_type": "markdown",
      "metadata": {
        "id": "0NytGTyOXjtD"
      },
      "source": [
        "# **Exercício 9:**\n",
        "\n",
        "---\n",
        "Crie um programa usando a biblioteca tkinter que exiba uma janela com uma caixa de seleção e um botão. Quando o botão for clicado, obtenha a opção selecionada da caixa de seleção usando a variável associada e exiba-a em uma caixa de diálogo usando a função messagebox.showinfo()."
      ]
    },
    {
      "cell_type": "code",
      "execution_count": 29,
      "metadata": {
        "id": "n7LtC33EXpuy"
      },
      "outputs": [],
      "source": [
        "from tkinter import *\n",
        "from tkinter import ttk\n",
        "\n",
        "root = Tk()\n",
        "root.title('Caixa de seleção')\n",
        "root.geometry('400x150')\n",
        "\n",
        "def selected() :\n",
        "    option = combo.get()\n",
        "    messagebox.showinfo('Informação', 'O período selecionado foi: ' + option)\n",
        "\n",
        "list = ['Manhã', 'Tarde', 'Noite']\n",
        "\n",
        "Label(root, text='Escolha um período', width=15, height=2).pack()\n",
        "\n",
        "combo = ttk.Combobox(root, values=list)\n",
        "combo.set('Selecione uma opção')\n",
        "combo.pack()\n",
        "\n",
        "Button(root, text='Enviar', command=selected).pack(pady=30)\n",
        "\n",
        "root.mainloop()"
      ]
    },
    {
      "cell_type": "markdown",
      "metadata": {
        "id": "qoozLEBUZeDa"
      },
      "source": [
        "# **Exercício 10:**\n",
        "\n",
        "---\n",
        "Crie um programa que utilize a biblioteca pandas para ler um arquivo CSV chamado \"dados.csv\". O arquivo contém uma coluna chamada \"idade\". Calcule a média das idades utilizando o método .mean() e exiba o resultado.\n",
        "\n",
        "[Link para a Documentação do Pandas](https://pandas.pydata.org/docs/reference/api/pandas.read_csv.html)\n"
      ]
    },
    {
      "cell_type": "code",
      "execution_count": 4,
      "metadata": {
        "id": "56Mo2YGCZjg5"
      },
      "outputs": [
        {
          "name": "stdout",
          "output_type": "stream",
          "text": [
            "23.8\n"
          ]
        }
      ],
      "source": [
        "from pandas import *\n",
        "from statistics import mean\n",
        "\n",
        "df = read_csv('data.csv')\n",
        "media = df['idade'].mean()\n",
        "\n",
        "print(media)"
      ]
    },
    {
      "cell_type": "markdown",
      "metadata": {
        "id": "CrGJ4bNpZkl5"
      },
      "source": [
        "# **Exercício 11:**\n",
        "\n",
        "---\n",
        "Crie um programa que utilize as bibliotecas pandas e matplotlib para ler um arquivo CSV chamado \"dados.csv\". O arquivo contém duas colunas: \"nome\" e \"pontuacao\". Exiba um gráfico de barras utilizando o método .bar() do matplotlib.pyplot, passando os nomes como valores no eixo x e as pontuações como valores no eixo y.\n",
        "\n",
        "[Link para a Documentação do Pandas](https://pandas.pydata.org/docs/reference/api/pandas.read_csv.html)\n",
        "\n",
        "[Link para a documentação do matplotlib](https://matplotlib.org/stable/api/_as_gen/matplotlib.pyplot.bar.html)"
      ]
    },
    {
      "cell_type": "code",
      "execution_count": 5,
      "metadata": {},
      "outputs": [
        {
          "data": {
            "image/png": "[encoded data removed]",
            "text/plain": [
              "<Figure size 640x480 with 1 Axes>"
            ]
          },
          "metadata": {},
          "output_type": "display_data"
        }
      ],
      "source": [
        "from pandas import *\n",
        "import matplotlib.pyplot as plt\n",
        "import numpy as np\n",
        "\n",
        "df = read_csv('data.csv')\n",
        "name = df['nome']\n",
        "pnts = df['pontos']\n",
        "\n",
        "plt.bar(name, pnts, color='pink')\n",
        "plt.show()"
      ]
    },
    {
      "cell_type": "code",
      "execution_count": 6,
      "metadata": {
        "id": "fX2Psu7AaNBT"
      },
      "outputs": [
        {
          "data": {
            "image/png": "[encoded data removed]",
            "text/plain": [
              "<Figure size 640x480 with 1 Axes>"
            ]
          },
          "metadata": {},
          "output_type": "display_data"
        }
      ],
      "source": [
        "import matplotlib.pyplot as plt\n",
        "import numpy as np\n",
        "\n",
        "xpoints = np.array([0, 2, 6, 10])\n",
        "ypoints = np.array([0, 1000, 100, 250])\n",
        "\n",
        "font1 = {'family':'serif','color':'blue','size':20}\n",
        "font2 = {'family':'serif','color':'darkred','size':15}\n",
        "\n",
        "plt.plot(ypoints, marker='o', ms=10, mec='hotpink', mfc='hotpink', linestyle='dotted')\n",
        "plt.title('Gráfico de pontuações', fontdict=font1)\n",
        "plt.xlabel('Nomes', fontdict=font2)\n",
        "plt.ylabel('Pontuação', fontdict=font2)\n",
        "plt.show()"
      ]
    },
    {
      "cell_type": "code",
      "execution_count": null,
      "metadata": {},
      "outputs": [],
      "source": []
    }
  ],
  "metadata": {
    "colab": {
      "provenance": []
    },
    "kernelspec": {
      "display_name": "Python 3",
      "name": "python3"
    },
    "language_info": {
      "codemirror_mode": {
        "name": "ipython",
        "version": 3
      },
      "file_extension": ".py",
      "mimetype": "text/x-python",
      "name": "python",
      "nbconvert_exporter": "python",
      "pygments_lexer": "ipython3",
      "version": "3.12.0"
    }
  },
  "nbformat": 4,
  "nbformat_minor": 0
}

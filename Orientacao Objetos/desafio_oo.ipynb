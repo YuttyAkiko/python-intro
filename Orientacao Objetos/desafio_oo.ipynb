{
 "cells": [
  {
   "cell_type": "markdown",
   "metadata": {},
   "source": [
    "# DESAFIO - Orientação a Objetos em uma Clínica Médica\n",
    "\n",
    "Imagine que você foi contratado para desenvolver um sistema de gestão para uma clínica médica. O objetivo é criar uma aplicação em Python que permita registrar e gerenciar os funcionários da clínica, como médicos e enfermeiros, bem como suas atividades diárias, como agendar consultas, realizar exames e procedimentos médicos.\n",
    "Para isso, você precisa implementar um conjunto de classes que representem os funcionários da clínica e suas respectivas atividades. Cada funcionário possui um nome, uma especialidade e, dependendo do cargo, informações específicas, como CRM para médicos e COREN para enfermeiros.\n",
    "As funcionalidades básicas que devem ser implementadas incluem:\n",
    "\n",
    "- Deve possuir um nome e uma especialidade.\n",
    "- Deve ser capaz de agendar consultas para os pacientes.\n",
    "- Deve ser capaz de realizar exames para os pacientes.\n",
    "- Além das características de um funcionário da clínica, um médico possui um número de CRM.\n",
    "- Deve ser capaz de prescrever medicamentos para os pacientes.\n",
    "- Além das características de um funcionário da clínica, um enfermeiro possui um número de COREN.\n",
    "- Deve ser capaz de aplicar injeções nos pacientes.\n",
    "\n",
    "Você deve implementar as classes e métodos necessários para atender aos requisitos acima. Em seguida, teste seu sistema com exemplos de funcionários realizando diversas atividades, como agendar consultas, realizar exames, prescrever medicamentos e aplicar injeções.\n",
    "Lembre-se de utilizar os conceitos de herança e polimorfismo para criar uma estrutura flexível e modular, que permita a fácil expansão e manutenção do sistema no futuro.\n",
    "Desenvolva o código e os testes necessários para garantir o funcionamento correto do sistema. Boa sorte!"
   ]
  },
  {
   "cell_type": "code",
   "execution_count": 8,
   "metadata": {},
   "outputs": [
    {
     "name": "stdout",
     "output_type": "stream",
     "text": [
      "Erik agendou uma consulta para o paciente Pablo\n",
      "Dr.(a) Erik realizou o exame de sangue no paciente Pablo\n",
      "Dr(a) Erik prescreveu o medicamento dipirona para o paciente Pablo\n",
      "Carlos agendou uma consulta para o paciente Ana\n",
      "Dr.(a) Carlos realizou o exame de mediu a temperatura no paciente Ana\n",
      "Carlos aplicou injeção no paciente Ana\n"
     ]
    }
   ],
   "source": [
    "class Funcionario:\n",
    "  def __init__(self, nome, especialidade):\n",
    "    self.nome = nome\n",
    "    self.especialidade = especialidade\n",
    "  \n",
    "  def agendar_consulta(self, paciente):\n",
    "    print(f'{self.nome} agendou uma consulta para o paciente {paciente}')\n",
    "    \n",
    "  def realizar_exame(self, paciente, tipo_exame):\n",
    "    print(f'Dr.(a) {self.nome} realizou o exame de {tipo_exame} no paciente {paciente}')\n",
    "    \n",
    "class Medico(Funcionario):\n",
    "  def __init__(self, nome, especialidade, crm):\n",
    "    super().__init__(nome, especialidade)\n",
    "    self.crm = crm\n",
    "    \n",
    "  def prescrever_medicamento(self, paciente, medicamento):\n",
    "    print(f'Dr(a) {self.nome} prescreveu o medicamento {medicamento} para o paciente {paciente}')\n",
    "\n",
    "class Enfermeiro(Funcionario):\n",
    "  def __init__(self, nome, especialidade, coren):\n",
    "    super().__init__(nome, especialidade)\n",
    "    self.coren = coren\n",
    "    \n",
    "  def aplicar_injecao(self, paciente):\n",
    "    print(f'{self.nome} aplicou injeção no paciente {paciente}')\n",
    "    \n",
    "class Paciente:\n",
    "  def __init__(self, nome):\n",
    "    self.nome = nome\n",
    "    \n",
    "medico = Medico('Erik', 'Pediatra', '123456/sp')\n",
    "enfermeiro = Enfermeiro('Carlos', 'Cliníco Geral', '123.456')\n",
    "paciente1 = Paciente('Pablo')\n",
    "paciente2 = Paciente('Ana')\n",
    "\n",
    "medico.agendar_consulta(paciente1.nome)\n",
    "medico.realizar_exame(paciente1.nome, 'sangue')\n",
    "medico.prescrever_medicamento(paciente1.nome, 'dipirona')\n",
    "\n",
    "enfermeiro.agendar_consulta(paciente2.nome)\n",
    "enfermeiro.realizar_exame(paciente2.nome, 'mediu a temperatura')\n",
    "enfermeiro.aplicar_injecao(paciente2.nome)"
   ]
  },
  {
   "cell_type": "code",
   "execution_count": null,
   "metadata": {},
   "outputs": [],
   "source": []
  }
 ],
 "metadata": {
  "kernelspec": {
   "display_name": "Python 3",
   "language": "python",
   "name": "python3"
  },
  "language_info": {
   "codemirror_mode": {
    "name": "ipython",
    "version": 3
   },
   "file_extension": ".py",
   "mimetype": "text/x-python",
   "name": "python",
   "nbconvert_exporter": "python",
   "pygments_lexer": "ipython3",
   "version": "3.12.0"
  }
 },
 "nbformat": 4,
 "nbformat_minor": 2
}
